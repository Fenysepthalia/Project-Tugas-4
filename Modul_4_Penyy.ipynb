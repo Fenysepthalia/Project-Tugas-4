{
  "nbformat": 4,
  "nbformat_minor": 0,
  "metadata": {
    "colab": {
      "name": "Modul_4_Penyy.ipynb",
      "provenance": [],
      "include_colab_link": true
    },
    "kernelspec": {
      "name": "python3",
      "display_name": "Python 3"
    },
    "language_info": {
      "name": "python"
    },
    "accelerator": "GPU"
  },
  "cells": [
    {
      "cell_type": "markdown",
      "metadata": {
        "id": "view-in-github",
        "colab_type": "text"
      },
      "source": [
        "<a href=\"https://colab.research.google.com/github/Fenysepthalia/Project-Tugas-4/blob/main/Modul_4_Penyy.ipynb\" target=\"_parent\"><img src=\"https://colab.research.google.com/assets/colab-badge.svg\" alt=\"Open In Colab\"/></a>"
      ]
    },
    {
      "cell_type": "markdown",
      "metadata": {
        "id": "wQBa4hXoxDUd"
      },
      "source": [
        "# **Soal Praktikum Overfitting Handling #2**"
      ]
    },
    {
      "cell_type": "markdown",
      "metadata": {
        "id": "06V87X5rVRM2"
      },
      "source": [
        "## Kegiatan 1 **(Individu)** \n",
        "70 poin"
      ]
    },
    {
      "cell_type": "markdown",
      "metadata": {
        "id": "u6kTqqtESNnc"
      },
      "source": [
        "**Peraturan :**\n",
        "* Tidak boleh ada error dalam kode program\n",
        "* Dalam modul ini tidak diperbolehkan menggunakan teknik transfer learning dari pretrain model baik yang di bangun sendiri atau anda dapatkan dari sumber lain (tensorflow, keras, dan sebagainya)\n",
        "* Perhatikan langkah demi langkah yang diperintahkan dalam kegiatan ini"
      ]
    },
    {
      "cell_type": "markdown",
      "metadata": {
        "id": "zQtmu9tIdbf4"
      },
      "source": [
        "### **SOAL 1 :** \n",
        "---\n",
        "Dalam mendefinisikan model Machine Learing ada banyak cara untuk mendapatkan model dengan performa terbaik salah satunya adalah hyperparameter tuning. Contoh hyperparameter tuning telah diberikan dalam materi di modul ini, dalam kegiatan ini telah diberikan sedikit contoh lain untuk mendefinisikan model hyperparameter tuning dengan hparam. **Tugas anda dalam kegiatan modul kali ini adalah membuat model CNN dengan hyperparameter tuning dengan ketentuan wajib sebagai berikut :**\n",
        "* Menerapkan materi dari modul-modul sebelumnya (modul 2 dan 3)\n",
        "* **Menggunakan image disease dataset (bebas dari sumber mana saja)**\n",
        "* Menggunakan dataset dengan jumlah minimal 5000 data\n",
        "* Lakukan eksperimen model untuk mencari model CNN dengan performa terbaik untuk mengklasifikasikan dataset yang anda gunakan.\n",
        "* Definisikan minimal 2 model CNN dengan komposisi parameter yang berbeda-beda.\n",
        "* Masing-masing model memiliki **minimal** 50 epoch.\n",
        "* Dalam mendefinisikan model, WAJIB melakukan tuning minimal pada 3 parameter model yang dirubah misalnya merubah jumlah neuron, nilai dropout, nilai lerning rate, jenis optimizer, jenis activation function dsb.\n",
        "* Visualisasikan hasil evaluasi performa model. Anda dapat menggunakan plot pada umumnya seperti grafik loss dan accuracy dengan matplotib atau visualisasi interaktif menggunakan tensorboard seperti pada contoh dibawah.\n",
        "\n"
      ]
    },
    {
      "cell_type": "code",
      "metadata": {
        "id": "DG4wHBH7K71N",
        "colab": {
          "base_uri": "https://localhost:8080/"
        },
        "outputId": "ce4cc727-c495-4dcc-bb3f-7cb05c452710"
      },
      "source": [
        "# Tulis Program Anda Disini!\n",
        "\n",
        "from google.colab import drive\n",
        "drive.mount('/content/drive')"
      ],
      "execution_count": 2,
      "outputs": [
        {
          "output_type": "stream",
          "name": "stdout",
          "text": [
            "Mounted at /content/drive\n"
          ]
        }
      ]
    },
    {
      "cell_type": "code",
      "metadata": {
        "id": "qpSloj6EuguA"
      },
      "source": [
        "import os\n",
        "os.environ['KAGGLE_CONFIG_DIR'] = \"/content/drive/My Drive/Disease\""
      ],
      "execution_count": 3,
      "outputs": []
    },
    {
      "cell_type": "code",
      "metadata": {
        "colab": {
          "base_uri": "https://localhost:8080/"
        },
        "id": "rni-1DNZug2x",
        "outputId": "8b6d2be9-fbb7-4370-a6ea-e028bc0bf791"
      },
      "source": [
        "%cd /content/drive/My Drive/Disease"
      ],
      "execution_count": 4,
      "outputs": [
        {
          "output_type": "stream",
          "name": "stdout",
          "text": [
            "/content/drive/My Drive/Disease\n"
          ]
        }
      ]
    },
    {
      "cell_type": "code",
      "metadata": {
        "colab": {
          "base_uri": "https://localhost:8080/"
        },
        "id": "l6-r4zbTug8T",
        "outputId": "43f001f7-53bc-4480-a3f9-9f2a118ef2ef"
      },
      "source": [
        "ls"
      ],
      "execution_count": 5,
      "outputs": [
        {
          "output_type": "stream",
          "name": "stdout",
          "text": [
            "kaggle.json\n"
          ]
        }
      ]
    },
    {
      "cell_type": "code",
      "metadata": {
        "colab": {
          "base_uri": "https://localhost:8080/"
        },
        "id": "lB12kI18uhBv",
        "outputId": "9d53eadf-c4ec-44e8-dd84-f71ac11c18fb"
      },
      "source": [
        "!kaggle datasets download -d paultimothymooney/chest-xray-pneumonia"
      ],
      "execution_count": 6,
      "outputs": [
        {
          "output_type": "stream",
          "name": "stdout",
          "text": [
            "Downloading chest-xray-pneumonia.zip to /content/drive/My Drive/Disease\n",
            "100% 2.29G/2.29G [00:27<00:00, 35.1MB/s]\n",
            "100% 2.29G/2.29G [00:27<00:00, 90.6MB/s]\n"
          ]
        }
      ]
    },
    {
      "cell_type": "code",
      "metadata": {
        "id": "CHYEip7auhDx"
      },
      "source": [
        "!unzip \\*.zip &> /dev/null && rm *.zip"
      ],
      "execution_count": 7,
      "outputs": []
    },
    {
      "cell_type": "code",
      "metadata": {
        "colab": {
          "base_uri": "https://localhost:8080/"
        },
        "id": "4qp6eO5buhFj",
        "outputId": "b6b4f04e-d239-4b9c-9350-d94e53113eff"
      },
      "source": [
        "ls"
      ],
      "execution_count": 8,
      "outputs": [
        {
          "output_type": "stream",
          "name": "stdout",
          "text": [
            "\u001b[0m\u001b[01;34mchest_xray\u001b[0m/  kaggle.json\n"
          ]
        }
      ]
    },
    {
      "cell_type": "code",
      "metadata": {
        "id": "1WS07NBtuhHZ"
      },
      "source": [
        "from os import mkdir\n",
        "\n",
        "mkdir ('Data')"
      ],
      "execution_count": 9,
      "outputs": []
    },
    {
      "cell_type": "code",
      "metadata": {
        "colab": {
          "base_uri": "https://localhost:8080/",
          "height": 35
        },
        "id": "QBQtinG_UB2M",
        "outputId": "05687f47-4bd6-452a-eba1-aaa6eed6aa67"
      },
      "source": [
        "import shutil,sys\n",
        "\n",
        "shutil.move(\"/content/drive/My Drive/Disease/chest_xray/train/NORMAL\", \"/content/drive/My Drive/Disease/Data\")\n",
        "shutil.move(\"/content/drive/My Drive/Disease/chest_xray/train/PNEUMONIA\", \"/content/drive/My Drive/Disease/Data\")"
      ],
      "execution_count": 10,
      "outputs": [
        {
          "output_type": "execute_result",
          "data": {
            "application/vnd.google.colaboratory.intrinsic+json": {
              "type": "string"
            },
            "text/plain": [
              "'/content/drive/My Drive/Disease/Data/PNEUMONIA'"
            ]
          },
          "metadata": {},
          "execution_count": 10
        }
      ]
    },
    {
      "cell_type": "code",
      "metadata": {
        "id": "8Y_KSTW3ruSl"
      },
      "source": [
        "import matplotlib.pyplot as plt\n",
        "import seaborn as sns\n",
        "\n",
        "import keras\n",
        "from keras.models import Sequential\n",
        "from keras.layers import Dense, Conv2D , MaxPool2D , Flatten , Dropout , BatchNormalization, AveragePooling2D\n",
        "from keras.preprocessing.image import ImageDataGenerator\n",
        "from sklearn.model_selection import train_test_split\n",
        "from sklearn.metrics import classification_report,confusion_matrix\n",
        "from keras.callbacks import ReduceLROnPlateau\n",
        "import cv2\n",
        "import os\n",
        "import numpy as np\n",
        "import pandas as pd\n",
        "import os\n",
        "from shutil import copyfile\n",
        "import random"
      ],
      "execution_count": 11,
      "outputs": []
    },
    {
      "cell_type": "code",
      "metadata": {
        "id": "UlZdEItEYgBe"
      },
      "source": [
        "%rm -rf Test/\n",
        "%rm -rf Train/\n",
        "%rm -rf Valid/"
      ],
      "execution_count": null,
      "outputs": []
    },
    {
      "cell_type": "code",
      "metadata": {
        "id": "1VZzN0bTuhM9"
      },
      "source": [
        "TRAIN_DIR = \"/content/drive/My Drive/Disease/Train/\"\n",
        "VALID_DIR =\"/content/drive/My Drive/Disease/Valid/\"\n",
        "TEST_DIR =\"/content/drive/My Drive/Disease/Test/\"\n",
        "\n",
        "os.mkdir(TRAIN_DIR)\n",
        "os.mkdir(VALID_DIR)\n",
        "os.mkdir(TEST_DIR)\n",
        "\n",
        "for label in ['NORMAL', 'PNEUMONIA']:\n",
        "    os.mkdir(TRAIN_DIR+label)\n",
        "    os.mkdir(VALID_DIR+label)\n",
        "    os.mkdir(TEST_DIR+label)"
      ],
      "execution_count": 12,
      "outputs": []
    },
    {
      "cell_type": "code",
      "metadata": {
        "colab": {
          "base_uri": "https://localhost:8080/"
        },
        "id": "5Nr7QHYUuhQj",
        "outputId": "91551f6f-0305-4d35-ea19-1804460a36ee"
      },
      "source": [
        "def train_valid_test_split(source, train_dir, valid_dir, test_dir,train_size, valid_size, test_size):\n",
        "    # get files\n",
        "    files = []\n",
        "    for filename in os.listdir(source):\n",
        "        file = source + filename\n",
        "        if os.path.getsize(file) > 0:\n",
        "            files.append(filename)\n",
        "    \n",
        "    # train valid split\n",
        "    train_size = int(len(files) * (1-(valid_size + train_size)))\n",
        "    valid_size = int(len(files) * (1-(valid_size + test_size)))\n",
        "    test_size = int(len(files) * (1-train_size))\n",
        "  \n",
        "    # shuffle the dataset\n",
        "    shuffled_files = random.sample(files, len(files))\n",
        "    \n",
        "    train_set = shuffled_files[train_size:valid_size]\n",
        "    valid_set = shuffled_files[valid_size:]\n",
        "    test_set = shuffled_files[:train_size]\n",
        "    \n",
        "    for filename in train_set:\n",
        "        filepath = source + filename\n",
        "        destination = train_dir + filename\n",
        "        copyfile(filepath, destination)\n",
        "        \n",
        "    for filename in valid_set:\n",
        "        filepath = source + filename\n",
        "        destination = valid_dir + filename\n",
        "        copyfile(filepath, destination)\n",
        "    \n",
        "    for filename in test_set:\n",
        "        filepath = source + filename\n",
        "        destination = test_dir + filename\n",
        "        copyfile(filepath, destination)\n",
        "\n",
        "SOURCE = \"/content/drive/My Drive/Disease/Data/\"\n",
        "\n",
        "for label in ['NORMAL', 'PNEUMONIA']:\n",
        "    print(label)\n",
        "    train_valid_test_split(SOURCE+label+'/',  TRAIN_DIR +label+'/', VALID_DIR +label+'/', TEST_DIR +label+'/', train_size=0.8, valid_size=0.19, test_size=0.01)\n",
        "    print('Total images: ', len(os.listdir(SOURCE +label+'/')))\n",
        "    print('Training: ', len(os.listdir(TRAIN_DIR +label+'/')))\n",
        "    print('Validation: ', len(os.listdir(VALID_DIR +label+'/')))\n",
        "    print('Testing: ', len(os.listdir(TEST_DIR +label+'/')))\n",
        "    print()"
      ],
      "execution_count": 13,
      "outputs": [
        {
          "output_type": "stream",
          "name": "stdout",
          "text": [
            "NORMAL\n",
            "Total images:  1341\n",
            "Training:  1059\n",
            "Validation:  269\n",
            "Testing:  13\n",
            "\n",
            "PNEUMONIA\n",
            "Total images:  3875\n",
            "Training:  3062\n",
            "Validation:  775\n",
            "Testing:  38\n",
            "\n"
          ]
        }
      ]
    },
    {
      "cell_type": "code",
      "metadata": {
        "id": "tADRAN1MuhSw",
        "colab": {
          "base_uri": "https://localhost:8080/"
        },
        "outputId": "004e415b-9c16-4d04-fa0e-ea8e79330c05"
      },
      "source": [
        "from keras.preprocessing.image import ImageDataGenerator\n",
        "\n",
        "train_datagen = ImageDataGenerator(\n",
        "    rescale = 1./255,\n",
        "    rotation_range = 90,\n",
        "    height_shift_range = 0.2,\n",
        "    width_shift_range = 0.2,\n",
        "    zoom_range = 0.2,\n",
        "    fill_mode='nearest'\n",
        ")\n",
        "\n",
        "training_set = train_datagen.flow_from_directory(\"/content/drive/My Drive/Disease/Train/\", \n",
        "                                                 target_size=(100,100),\n",
        "                                                 color_mode=\"rgb\",\n",
        "                                                 shuffle=False,\n",
        "                                                 batch_size = 8,\n",
        "                                                 class_mode='categorical')"
      ],
      "execution_count": 27,
      "outputs": [
        {
          "output_type": "stream",
          "name": "stdout",
          "text": [
            "Found 4121 images belonging to 2 classes.\n"
          ]
        }
      ]
    },
    {
      "cell_type": "code",
      "metadata": {
        "colab": {
          "base_uri": "https://localhost:8080/"
        },
        "id": "OvcP-oAYCxvo",
        "outputId": "2a8d1320-c723-4dcf-d497-de8dc4727b0b"
      },
      "source": [
        "from keras.preprocessing.image import ImageDataGenerator\n",
        "\n",
        "val_datagen = ImageDataGenerator(\n",
        "    rescale = 1./255,\n",
        "    rotation_range = 90,\n",
        "    height_shift_range = 0.2,\n",
        "    width_shift_range = 0.2,\n",
        "    zoom_range = 0.2,\n",
        "    fill_mode='nearest'\n",
        ")\n",
        "\n",
        "val_set = val_datagen.flow_from_directory(\"/content/drive/My Drive/Disease/Valid/\", \n",
        "                                                 target_size=(100,100),\n",
        "                                                 color_mode=\"rgb\",\n",
        "                                                 shuffle=False,\n",
        "                                                 batch_size = 8,\n",
        "                                                 class_mode='categorical')"
      ],
      "execution_count": 28,
      "outputs": [
        {
          "output_type": "stream",
          "name": "stdout",
          "text": [
            "Found 1044 images belonging to 2 classes.\n"
          ]
        }
      ]
    },
    {
      "cell_type": "code",
      "metadata": {
        "colab": {
          "base_uri": "https://localhost:8080/"
        },
        "id": "J0mdiz_2C870",
        "outputId": "b1bf543b-15c3-4571-fa2c-843baa45afa8"
      },
      "source": [
        "from keras.preprocessing.image import ImageDataGenerator\n",
        "\n",
        "test_datagen = ImageDataGenerator(\n",
        "    rescale = 1./255,\n",
        "    rotation_range = 90,\n",
        "    height_shift_range = 0.2,\n",
        "    width_shift_range = 0.2,\n",
        "    zoom_range = 0.2,\n",
        "    fill_mode='nearest'\n",
        ")\n",
        "\n",
        "test_set = test_datagen.flow_from_directory(\"/content/drive/My Drive/Disease/Test/\", \n",
        "                                                 target_size=(100,100),\n",
        "                                                 color_mode=\"rgb\",\n",
        "                                                 shuffle=False,\n",
        "                                                 batch_size = 8,\n",
        "                                                 class_mode='categorical')"
      ],
      "execution_count": 29,
      "outputs": [
        {
          "output_type": "stream",
          "name": "stdout",
          "text": [
            "Found 51 images belonging to 2 classes.\n"
          ]
        }
      ]
    },
    {
      "cell_type": "code",
      "metadata": {
        "id": "oxpTJTUemp1e"
      },
      "source": [
        "import tensorflow as tf\n",
        "from tensorboard.plugins.hparams import api as hp"
      ],
      "execution_count": 30,
      "outputs": []
    },
    {
      "cell_type": "code",
      "metadata": {
        "colab": {
          "base_uri": "https://localhost:8080/"
        },
        "id": "iX4h80Lw_atj",
        "outputId": "4cc232e9-0f72-4e7b-8d0b-e8da7d89bf85"
      },
      "source": [
        "%load_ext tensorboard"
      ],
      "execution_count": 31,
      "outputs": [
        {
          "output_type": "stream",
          "name": "stdout",
          "text": [
            "The tensorboard extension is already loaded. To reload it, use:\n",
            "  %reload_ext tensorboard\n"
          ]
        }
      ]
    },
    {
      "cell_type": "code",
      "metadata": {
        "id": "TYcHm6ru_bQn"
      },
      "source": [
        "!rm -rf ./logs/ "
      ],
      "execution_count": 32,
      "outputs": []
    },
    {
      "cell_type": "code",
      "metadata": {
        "id": "E5-J8rBI_bpd"
      },
      "source": [
        "HP_NUM_UNITS = hp.HParam('num_units', hp.Discrete([128]))\n",
        "HP_DROPOUT = hp.HParam('dropout', hp.RealInterval(0.2, 0.5))\n",
        "HP_OPTIMIZER = hp.HParam('optimizer', hp.Discrete(['adam', 'rmsprop', 'adadelta']))\n",
        "\n",
        "METRIC_ACCURACY = 'accuracy'\n",
        "\n",
        "with tf.summary.create_file_writer('logs/hparam_tuning').as_default():\n",
        "  hp.hparams_config(\n",
        "    hparams=[HP_NUM_UNITS, HP_DROPOUT, HP_OPTIMIZER],\n",
        "    metrics=[hp.Metric(METRIC_ACCURACY, display_name='Accuracy')],\n",
        "  )"
      ],
      "execution_count": 33,
      "outputs": []
    },
    {
      "cell_type": "code",
      "metadata": {
        "id": "mcrOdElH_mXo"
      },
      "source": [
        "xvl, yvl = zip(*(val_set[i] for i in range(len(val_set))))\n",
        "x_val, y_val = np.vstack(xvl), np.vstack(yvl)"
      ],
      "execution_count": 36,
      "outputs": []
    },
    {
      "cell_type": "code",
      "metadata": {
        "id": "Zz_rC3ybDN68"
      },
      "source": [
        "def train_test_model(hparams):\n",
        "  model = Sequential()\n",
        "  model.add(Conv2D(filters = 32, kernel_size=(3, 3), input_shape = (100, 100, 3))),\n",
        "  model.add(BatchNormalization()),\n",
        "  model.add(MaxPooling2D(pool_size=(2,2))),\n",
        "  model.add(Dropout(hparams[HP_DROPOUT])),\n",
        "  model.add(Conv2D(filters = 32, kernel_size=(3, 3), input_shape = (100, 100, 3), activation = 'relu')),\n",
        "  model.add(BatchNormalization()),\n",
        "  model.add(MaxPooling2D(pool_size=(2,2))),\n",
        "  model.add(MaxPooling2D(pool_size=(2,2))),\n",
        "  model.add(Dropout(hparams[HP_DROPOUT])),\n",
        "  model.add(Conv2D(filters = 32, kernel_size=(3, 3), input_shape = (100, 100, 3), activation = 'relu')),\n",
        "  model.add(BatchNormalization()),\n",
        "  model.add(MaxPooling2D(pool_size=(2,2))),\n",
        "  model.add(MaxPooling2D(pool_size=(2,2))),\n",
        "  model.add(Dropout(hparams[HP_DROPOUT])),\n",
        "  model.add(Flatten()),\n",
        "  model.add(Dense(hparams[HP_NUM_UNITS], activation = 'relu')),\n",
        "  model.add(Dense(64, activation='relu')),\n",
        "  model.add(Dense(32, activation='relu')),\n",
        "  model.add(Dropout(hparams[HP_DROPOUT])),\n",
        "  model.add(Dense(2, activation='softmax'))\n",
        "\n",
        "  model.compile(\n",
        "      optimizer=hparams[HP_OPTIMIZER],\n",
        "      loss='categorical_crossentropy',\n",
        "      metrics=['accuracy'],\n",
        "  )\n",
        "\n",
        "  model.fit(training_set, \n",
        "            validation_data=val_set, \n",
        "            epochs=50,\n",
        "            callbacks=ReduceLROnPlateau(monitor='val_accuracy', patience = 2, verbose=1,factor=0.3, min_lr=0.001),\n",
        "  )\n",
        "  _, accuracy = model.evaluate(x_val, y_val)\n",
        "  return accuracy"
      ],
      "execution_count": 42,
      "outputs": []
    },
    {
      "cell_type": "code",
      "metadata": {
        "id": "JfqmRVUzEp7a"
      },
      "source": [
        "def run(run_dir, hparams):\n",
        "  with tf.summary.create_file_writer(run_dir).as_default():\n",
        "    hp.hparams(hparams)  # record the values used in this trial\n",
        "    accuracy = train_test_model(hparams)\n",
        "    tf.summary.scalar(METRIC_ACCURACY, accuracy, step=50)"
      ],
      "execution_count": 43,
      "outputs": []
    },
    {
      "cell_type": "code",
      "metadata": {
        "colab": {
          "base_uri": "https://localhost:8080/"
        },
        "id": "KEDXT48AEtKi",
        "outputId": "0d906b75-307e-450c-9782-9350c4165d6e"
      },
      "source": [
        "from keras.layers import Dense, Conv2D , MaxPooling2D , Flatten , Dropout , BatchNormalization, AveragePooling2D\n",
        "session_num = 0\n",
        "\n",
        "for num_units in HP_NUM_UNITS.domain.values:\n",
        "  for dropout_rate in (HP_DROPOUT.domain.min_value, HP_DROPOUT.domain.max_value):\n",
        "    for optimizer in HP_OPTIMIZER.domain.values:\n",
        "      hparams = {\n",
        "          HP_NUM_UNITS: num_units,\n",
        "          HP_DROPOUT: dropout_rate,\n",
        "          HP_OPTIMIZER: optimizer,\n",
        "      }\n",
        "      run_name = \"run-%d\" % session_num\n",
        "      print('--- Starting trial: %s' % run_name)\n",
        "      print({h.name: hparams[h] for h in hparams})\n",
        "      run('logs/hparam_tuning/' + run_name, hparams)\n",
        "      session_num += 1"
      ],
      "execution_count": null,
      "outputs": [
        {
          "output_type": "stream",
          "name": "stdout",
          "text": [
            "--- Starting trial: run-0\n",
            "{'num_units': 128, 'dropout': 0.2, 'optimizer': 'adadelta'}\n",
            "Epoch 1/50\n",
            "516/516 [==============================] - 81s 155ms/step - loss: 0.7996 - accuracy: 0.5955 - val_loss: 0.5727 - val_accuracy: 0.7375 - lr: 0.0010\n",
            "Epoch 2/50\n",
            "516/516 [==============================] - 80s 156ms/step - loss: 0.7816 - accuracy: 0.6103 - val_loss: 0.5622 - val_accuracy: 0.7347 - lr: 0.0010\n",
            "Epoch 3/50\n",
            "516/516 [==============================] - 80s 155ms/step - loss: 0.7617 - accuracy: 0.6287 - val_loss: 0.5660 - val_accuracy: 0.7318 - lr: 0.0010\n",
            "Epoch 4/50\n",
            "516/516 [==============================] - 79s 154ms/step - loss: 0.7540 - accuracy: 0.6413 - val_loss: 0.5493 - val_accuracy: 0.7356 - lr: 0.0010\n",
            "Epoch 5/50\n",
            "516/516 [==============================] - 80s 155ms/step - loss: 0.7544 - accuracy: 0.6331 - val_loss: 0.5594 - val_accuracy: 0.7375 - lr: 0.0010\n",
            "Epoch 6/50\n",
            "516/516 [==============================] - 80s 154ms/step - loss: 0.7527 - accuracy: 0.6523 - val_loss: 0.5510 - val_accuracy: 0.7337 - lr: 0.0010\n",
            "Epoch 7/50\n",
            "516/516 [==============================] - 80s 155ms/step - loss: 0.7190 - accuracy: 0.6559 - val_loss: 0.5576 - val_accuracy: 0.7414 - lr: 0.0010\n",
            "Epoch 8/50\n",
            "516/516 [==============================] - 80s 154ms/step - loss: 0.7204 - accuracy: 0.6559 - val_loss: 0.5576 - val_accuracy: 0.7375 - lr: 0.0010\n",
            "Epoch 9/50\n",
            "516/516 [==============================] - 79s 154ms/step - loss: 0.7203 - accuracy: 0.6644 - val_loss: 0.5465 - val_accuracy: 0.7366 - lr: 0.0010\n",
            "Epoch 10/50\n",
            "516/516 [==============================] - 80s 155ms/step - loss: 0.7348 - accuracy: 0.6659 - val_loss: 0.5477 - val_accuracy: 0.7385 - lr: 0.0010\n",
            "Epoch 11/50\n",
            "516/516 [==============================] - 80s 155ms/step - loss: 0.7222 - accuracy: 0.6729 - val_loss: 0.5568 - val_accuracy: 0.7423 - lr: 0.0010\n",
            "Epoch 12/50\n",
            "516/516 [==============================] - 79s 154ms/step - loss: 0.6987 - accuracy: 0.6748 - val_loss: 0.5634 - val_accuracy: 0.7414 - lr: 0.0010\n",
            "Epoch 13/50\n",
            "516/516 [==============================] - 79s 154ms/step - loss: 0.6821 - accuracy: 0.6828 - val_loss: 0.5427 - val_accuracy: 0.7375 - lr: 0.0010\n",
            "Epoch 14/50\n",
            "516/516 [==============================] - 80s 154ms/step - loss: 0.7055 - accuracy: 0.6736 - val_loss: 0.5433 - val_accuracy: 0.7328 - lr: 0.0010\n",
            "Epoch 15/50\n",
            "516/516 [==============================] - 80s 154ms/step - loss: 0.7049 - accuracy: 0.6787 - val_loss: 0.5531 - val_accuracy: 0.7423 - lr: 0.0010\n",
            "Epoch 16/50\n",
            "516/516 [==============================] - 80s 155ms/step - loss: 0.7000 - accuracy: 0.6792 - val_loss: 0.5446 - val_accuracy: 0.7433 - lr: 0.0010\n",
            "Epoch 17/50\n",
            "516/516 [==============================] - 80s 156ms/step - loss: 0.6993 - accuracy: 0.6831 - val_loss: 0.5434 - val_accuracy: 0.7414 - lr: 0.0010\n",
            "Epoch 18/50\n",
            "516/516 [==============================] - 79s 153ms/step - loss: 0.6988 - accuracy: 0.6785 - val_loss: 0.5481 - val_accuracy: 0.7423 - lr: 0.0010\n",
            "Epoch 19/50\n",
            "516/516 [==============================] - 79s 152ms/step - loss: 0.7023 - accuracy: 0.6780 - val_loss: 0.5512 - val_accuracy: 0.7356 - lr: 0.0010\n",
            "Epoch 20/50\n",
            "516/516 [==============================] - 79s 153ms/step - loss: 0.6642 - accuracy: 0.6933 - val_loss: 0.5414 - val_accuracy: 0.7385 - lr: 0.0010\n",
            "Epoch 21/50\n",
            "516/516 [==============================] - 79s 154ms/step - loss: 0.6802 - accuracy: 0.6901 - val_loss: 0.5487 - val_accuracy: 0.7452 - lr: 0.0010\n",
            "Epoch 22/50\n",
            "516/516 [==============================] - 80s 154ms/step - loss: 0.6812 - accuracy: 0.6860 - val_loss: 0.5406 - val_accuracy: 0.7519 - lr: 0.0010\n",
            "Epoch 23/50\n",
            "516/516 [==============================] - 79s 154ms/step - loss: 0.6898 - accuracy: 0.6768 - val_loss: 0.5455 - val_accuracy: 0.7395 - lr: 0.0010\n",
            "Epoch 24/50\n",
            "516/516 [==============================] - 79s 152ms/step - loss: 0.6742 - accuracy: 0.6887 - val_loss: 0.5444 - val_accuracy: 0.7395 - lr: 0.0010\n",
            "Epoch 25/50\n",
            "516/516 [==============================] - 78s 152ms/step - loss: 0.6803 - accuracy: 0.6875 - val_loss: 0.5444 - val_accuracy: 0.7366 - lr: 0.0010\n",
            "Epoch 26/50\n",
            "516/516 [==============================] - 79s 153ms/step - loss: 0.6703 - accuracy: 0.6841 - val_loss: 0.5426 - val_accuracy: 0.7404 - lr: 0.0010\n",
            "Epoch 27/50\n",
            "516/516 [==============================] - 79s 154ms/step - loss: 0.6752 - accuracy: 0.6906 - val_loss: 0.5385 - val_accuracy: 0.7452 - lr: 0.0010\n",
            "Epoch 28/50\n",
            "516/516 [==============================] - 78s 152ms/step - loss: 0.6714 - accuracy: 0.6889 - val_loss: 0.5302 - val_accuracy: 0.7452 - lr: 0.0010\n",
            "Epoch 29/50\n",
            "516/516 [==============================] - 78s 152ms/step - loss: 0.6690 - accuracy: 0.6942 - val_loss: 0.5445 - val_accuracy: 0.7414 - lr: 0.0010\n",
            "Epoch 30/50\n",
            "516/516 [==============================] - 79s 152ms/step - loss: 0.6535 - accuracy: 0.7015 - val_loss: 0.5386 - val_accuracy: 0.7423 - lr: 0.0010\n",
            "Epoch 31/50\n",
            "516/516 [==============================] - 78s 152ms/step - loss: 0.6665 - accuracy: 0.6926 - val_loss: 0.5484 - val_accuracy: 0.7414 - lr: 0.0010\n",
            "Epoch 32/50\n",
            "516/516 [==============================] - 78s 152ms/step - loss: 0.6511 - accuracy: 0.6887 - val_loss: 0.5429 - val_accuracy: 0.7414 - lr: 0.0010\n",
            "Epoch 33/50\n",
            "516/516 [==============================] - 78s 151ms/step - loss: 0.6632 - accuracy: 0.6909 - val_loss: 0.5246 - val_accuracy: 0.7481 - lr: 0.0010\n",
            "Epoch 34/50\n",
            "516/516 [==============================] - 78s 151ms/step - loss: 0.6390 - accuracy: 0.7064 - val_loss: 0.5413 - val_accuracy: 0.7414 - lr: 0.0010\n",
            "Epoch 35/50\n",
            "516/516 [==============================] - 78s 151ms/step - loss: 0.6582 - accuracy: 0.6955 - val_loss: 0.5342 - val_accuracy: 0.7395 - lr: 0.0010\n",
            "Epoch 36/50\n",
            "516/516 [==============================] - 78s 152ms/step - loss: 0.6507 - accuracy: 0.7023 - val_loss: 0.5411 - val_accuracy: 0.7423 - lr: 0.0010\n",
            "Epoch 37/50\n",
            "516/516 [==============================] - 80s 154ms/step - loss: 0.6503 - accuracy: 0.7066 - val_loss: 0.5502 - val_accuracy: 0.7337 - lr: 0.0010\n",
            "Epoch 38/50\n",
            "516/516 [==============================] - 78s 151ms/step - loss: 0.6472 - accuracy: 0.7025 - val_loss: 0.5423 - val_accuracy: 0.7452 - lr: 0.0010\n",
            "Epoch 39/50\n",
            "516/516 [==============================] - 78s 151ms/step - loss: 0.6489 - accuracy: 0.6950 - val_loss: 0.5290 - val_accuracy: 0.7423 - lr: 0.0010\n",
            "Epoch 40/50\n",
            "516/516 [==============================] - 78s 151ms/step - loss: 0.6409 - accuracy: 0.7066 - val_loss: 0.5257 - val_accuracy: 0.7462 - lr: 0.0010\n",
            "Epoch 41/50\n",
            "516/516 [==============================] - 78s 152ms/step - loss: 0.6349 - accuracy: 0.7027 - val_loss: 0.5359 - val_accuracy: 0.7433 - lr: 0.0010\n",
            "Epoch 42/50\n",
            "516/516 [==============================] - 79s 154ms/step - loss: 0.6345 - accuracy: 0.7008 - val_loss: 0.5365 - val_accuracy: 0.7462 - lr: 0.0010\n",
            "Epoch 43/50\n",
            "516/516 [==============================] - 80s 155ms/step - loss: 0.6387 - accuracy: 0.7078 - val_loss: 0.5427 - val_accuracy: 0.7375 - lr: 0.0010\n",
            "Epoch 44/50\n",
            "516/516 [==============================] - 79s 154ms/step - loss: 0.6396 - accuracy: 0.7015 - val_loss: 0.5288 - val_accuracy: 0.7414 - lr: 0.0010\n",
            "Epoch 45/50\n",
            "516/516 [==============================] - 78s 151ms/step - loss: 0.6384 - accuracy: 0.7061 - val_loss: 0.5290 - val_accuracy: 0.7395 - lr: 0.0010\n",
            "Epoch 46/50\n",
            "516/516 [==============================] - 79s 153ms/step - loss: 0.6379 - accuracy: 0.7018 - val_loss: 0.5380 - val_accuracy: 0.7452 - lr: 0.0010\n",
            "Epoch 47/50\n",
            "516/516 [==============================] - 79s 152ms/step - loss: 0.6442 - accuracy: 0.7010 - val_loss: 0.5249 - val_accuracy: 0.7462 - lr: 0.0010\n",
            "Epoch 48/50\n",
            "516/516 [==============================] - 79s 153ms/step - loss: 0.6338 - accuracy: 0.7044 - val_loss: 0.5321 - val_accuracy: 0.7366 - lr: 0.0010\n",
            "Epoch 49/50\n",
            "516/516 [==============================] - 79s 153ms/step - loss: 0.6259 - accuracy: 0.7098 - val_loss: 0.5349 - val_accuracy: 0.7423 - lr: 0.0010\n",
            "Epoch 50/50\n",
            "516/516 [==============================] - 79s 153ms/step - loss: 0.6227 - accuracy: 0.7100 - val_loss: 0.5441 - val_accuracy: 0.7395 - lr: 0.0010\n",
            "33/33 [==============================] - 1s 14ms/step - loss: 0.5354 - accuracy: 0.7452\n",
            "--- Starting trial: run-1\n",
            "{'num_units': 128, 'dropout': 0.2, 'optimizer': 'adam'}\n",
            "Epoch 1/50\n",
            "516/516 [==============================] - 81s 154ms/step - loss: 0.6241 - accuracy: 0.7185 - val_loss: 0.6106 - val_accuracy: 0.7423 - lr: 0.0010\n",
            "Epoch 2/50\n",
            "516/516 [==============================] - 79s 154ms/step - loss: 0.5113 - accuracy: 0.7450 - val_loss: 0.4214 - val_accuracy: 0.7989 - lr: 0.0010\n",
            "Epoch 3/50\n",
            "516/516 [==============================] - 80s 154ms/step - loss: 0.4585 - accuracy: 0.7717 - val_loss: 0.5928 - val_accuracy: 0.7538 - lr: 0.0010\n",
            "Epoch 4/50\n",
            "516/516 [==============================] - 79s 154ms/step - loss: 0.4092 - accuracy: 0.8190 - val_loss: 0.5970 - val_accuracy: 0.7538 - lr: 0.0010\n",
            "Epoch 5/50\n",
            "516/516 [==============================] - 80s 155ms/step - loss: 0.3741 - accuracy: 0.8415 - val_loss: 0.5230 - val_accuracy: 0.7529 - lr: 0.0010\n",
            "Epoch 6/50\n",
            "516/516 [==============================] - 82s 159ms/step - loss: 0.3078 - accuracy: 0.8699 - val_loss: 0.5792 - val_accuracy: 0.7500 - lr: 0.0010\n",
            "Epoch 7/50\n",
            "516/516 [==============================] - 82s 159ms/step - loss: 0.2804 - accuracy: 0.8893 - val_loss: 0.5520 - val_accuracy: 0.7605 - lr: 0.0010\n",
            "Epoch 8/50\n",
            "516/516 [==============================] - 80s 156ms/step - loss: 0.2561 - accuracy: 0.8983 - val_loss: 0.7569 - val_accuracy: 0.7672 - lr: 0.0010\n",
            "Epoch 9/50\n",
            "516/516 [==============================] - 81s 157ms/step - loss: 0.2541 - accuracy: 0.9027 - val_loss: 0.5471 - val_accuracy: 0.7739 - lr: 0.0010\n",
            "Epoch 10/50\n",
            "516/516 [==============================] - 80s 155ms/step - loss: 0.2140 - accuracy: 0.9146 - val_loss: 0.9834 - val_accuracy: 0.7423 - lr: 0.0010\n",
            "Epoch 11/50\n",
            "516/516 [==============================] - 80s 156ms/step - loss: 0.1972 - accuracy: 0.9248 - val_loss: 0.6214 - val_accuracy: 0.7730 - lr: 0.0010\n",
            "Epoch 12/50\n",
            "516/516 [==============================] - 80s 155ms/step - loss: 0.1924 - accuracy: 0.9248 - val_loss: 0.3691 - val_accuracy: 0.8448 - lr: 0.0010\n",
            "Epoch 13/50\n",
            "516/516 [==============================] - 81s 156ms/step - loss: 0.1822 - accuracy: 0.9308 - val_loss: 0.5219 - val_accuracy: 0.7835 - lr: 0.0010\n",
            "Epoch 14/50\n",
            "516/516 [==============================] - 79s 154ms/step - loss: 0.1645 - accuracy: 0.9384 - val_loss: 0.4149 - val_accuracy: 0.8218 - lr: 0.0010\n",
            "Epoch 15/50\n",
            "516/516 [==============================] - 80s 155ms/step - loss: 0.1722 - accuracy: 0.9321 - val_loss: 1.5426 - val_accuracy: 0.7433 - lr: 0.0010\n",
            "Epoch 16/50\n",
            "516/516 [==============================] - 79s 154ms/step - loss: 0.1635 - accuracy: 0.9362 - val_loss: 0.9209 - val_accuracy: 0.7490 - lr: 0.0010\n",
            "Epoch 17/50\n",
            "516/516 [==============================] - 79s 154ms/step - loss: 0.1614 - accuracy: 0.9449 - val_loss: 0.8816 - val_accuracy: 0.7529 - lr: 0.0010\n",
            "Epoch 18/50\n",
            "516/516 [==============================] - 79s 153ms/step - loss: 0.1596 - accuracy: 0.9439 - val_loss: 1.4930 - val_accuracy: 0.7423 - lr: 0.0010\n",
            "Epoch 19/50\n",
            "516/516 [==============================] - 80s 155ms/step - loss: 0.1398 - accuracy: 0.9447 - val_loss: 0.5598 - val_accuracy: 0.7979 - lr: 0.0010\n",
            "Epoch 20/50\n",
            "516/516 [==============================] - 81s 157ms/step - loss: 0.1382 - accuracy: 0.9507 - val_loss: 1.7055 - val_accuracy: 0.7423 - lr: 0.0010\n",
            "Epoch 21/50\n",
            "516/516 [==============================] - 82s 159ms/step - loss: 0.1405 - accuracy: 0.9527 - val_loss: 0.8126 - val_accuracy: 0.7490 - lr: 0.0010\n",
            "Epoch 22/50\n",
            "516/516 [==============================] - 83s 160ms/step - loss: 0.1348 - accuracy: 0.9517 - val_loss: 0.8188 - val_accuracy: 0.7462 - lr: 0.0010\n",
            "Epoch 23/50\n",
            "516/516 [==============================] - 82s 160ms/step - loss: 0.1168 - accuracy: 0.9556 - val_loss: 1.5329 - val_accuracy: 0.7423 - lr: 0.0010\n",
            "Epoch 24/50\n",
            "516/516 [==============================] - 82s 159ms/step - loss: 0.1332 - accuracy: 0.9534 - val_loss: 0.9956 - val_accuracy: 0.7433 - lr: 0.0010\n",
            "Epoch 25/50\n",
            "516/516 [==============================] - 81s 158ms/step - loss: 0.1188 - accuracy: 0.9580 - val_loss: 2.3322 - val_accuracy: 0.7423 - lr: 0.0010\n",
            "Epoch 26/50\n",
            "516/516 [==============================] - 82s 158ms/step - loss: 0.1081 - accuracy: 0.9600 - val_loss: 0.6390 - val_accuracy: 0.7826 - lr: 0.0010\n",
            "Epoch 27/50\n",
            "516/516 [==============================] - 81s 158ms/step - loss: 0.1348 - accuracy: 0.9517 - val_loss: 0.8640 - val_accuracy: 0.7481 - lr: 0.0010\n",
            "Epoch 28/50\n",
            "516/516 [==============================] - 79s 153ms/step - loss: 0.1314 - accuracy: 0.9573 - val_loss: 0.8304 - val_accuracy: 0.7902 - lr: 0.0010\n",
            "Epoch 29/50\n",
            "516/516 [==============================] - 79s 152ms/step - loss: 0.1134 - accuracy: 0.9600 - val_loss: 5.8583 - val_accuracy: 0.7423 - lr: 0.0010\n",
            "Epoch 30/50\n",
            "516/516 [==============================] - 81s 157ms/step - loss: 0.1136 - accuracy: 0.9580 - val_loss: 0.7078 - val_accuracy: 0.7529 - lr: 0.0010\n",
            "Epoch 31/50\n",
            "516/516 [==============================] - 81s 157ms/step - loss: 0.1025 - accuracy: 0.9587 - val_loss: 0.4424 - val_accuracy: 0.8362 - lr: 0.0010\n",
            "Epoch 32/50\n",
            "516/516 [==============================] - 81s 158ms/step - loss: 0.1167 - accuracy: 0.9563 - val_loss: 1.0085 - val_accuracy: 0.7443 - lr: 0.0010\n",
            "Epoch 33/50\n",
            "516/516 [==============================] - 80s 155ms/step - loss: 0.1209 - accuracy: 0.9604 - val_loss: 0.7057 - val_accuracy: 0.7605 - lr: 0.0010\n",
            "Epoch 34/50\n",
            "516/516 [==============================] - 80s 155ms/step - loss: 0.1064 - accuracy: 0.9658 - val_loss: 1.4233 - val_accuracy: 0.7395 - lr: 0.0010\n",
            "Epoch 35/50\n",
            "516/516 [==============================] - 80s 155ms/step - loss: 0.1099 - accuracy: 0.9629 - val_loss: 0.4264 - val_accuracy: 0.7998 - lr: 0.0010\n",
            "Epoch 36/50\n",
            "516/516 [==============================] - 79s 154ms/step - loss: 0.0921 - accuracy: 0.9665 - val_loss: 1.2395 - val_accuracy: 0.7395 - lr: 0.0010\n",
            "Epoch 37/50\n",
            "516/516 [==============================] - 79s 153ms/step - loss: 0.0960 - accuracy: 0.9668 - val_loss: 0.6442 - val_accuracy: 0.7711 - lr: 0.0010\n",
            "Epoch 38/50\n",
            "516/516 [==============================] - 80s 154ms/step - loss: 0.0903 - accuracy: 0.9668 - val_loss: 0.6858 - val_accuracy: 0.7701 - lr: 0.0010\n",
            "Epoch 39/50\n",
            "516/516 [==============================] - 80s 155ms/step - loss: 0.0969 - accuracy: 0.9670 - val_loss: 0.7937 - val_accuracy: 0.7787 - lr: 0.0010\n",
            "Epoch 40/50\n",
            "516/516 [==============================] - 81s 156ms/step - loss: 0.1129 - accuracy: 0.9626 - val_loss: 6.8838 - val_accuracy: 0.7423 - lr: 0.0010\n",
            "Epoch 41/50\n",
            "516/516 [==============================] - 81s 158ms/step - loss: 0.1262 - accuracy: 0.9621 - val_loss: 0.9332 - val_accuracy: 0.7423 - lr: 0.0010\n",
            "Epoch 42/50\n",
            "516/516 [==============================] - 80s 155ms/step - loss: 0.0918 - accuracy: 0.9672 - val_loss: 0.9399 - val_accuracy: 0.7423 - lr: 0.0010\n",
            "Epoch 43/50\n",
            "516/516 [==============================] - 79s 154ms/step - loss: 0.0978 - accuracy: 0.9663 - val_loss: 1.4643 - val_accuracy: 0.7423 - lr: 0.0010\n",
            "Epoch 44/50\n",
            "516/516 [==============================] - 79s 154ms/step - loss: 0.1010 - accuracy: 0.9665 - val_loss: 0.6302 - val_accuracy: 0.7912 - lr: 0.0010\n",
            "Epoch 45/50\n",
            "516/516 [==============================] - 79s 153ms/step - loss: 0.0936 - accuracy: 0.9655 - val_loss: 1.0428 - val_accuracy: 0.7567 - lr: 0.0010\n",
            "Epoch 46/50\n",
            "516/516 [==============================] - 79s 154ms/step - loss: 0.0882 - accuracy: 0.9699 - val_loss: 0.7684 - val_accuracy: 0.7864 - lr: 0.0010\n",
            "Epoch 47/50\n",
            "516/516 [==============================] - 79s 154ms/step - loss: 0.0927 - accuracy: 0.9709 - val_loss: 0.8505 - val_accuracy: 0.7692 - lr: 0.0010\n",
            "Epoch 48/50\n",
            "516/516 [==============================] - 79s 153ms/step - loss: 0.0806 - accuracy: 0.9704 - val_loss: 1.1947 - val_accuracy: 0.7462 - lr: 0.0010\n",
            "Epoch 49/50\n",
            "516/516 [==============================] - 79s 154ms/step - loss: 0.0874 - accuracy: 0.9723 - val_loss: 1.7870 - val_accuracy: 0.7423 - lr: 0.0010\n",
            "Epoch 50/50\n",
            "516/516 [==============================] - 80s 156ms/step - loss: 0.0926 - accuracy: 0.9728 - val_loss: 1.3485 - val_accuracy: 0.7452 - lr: 0.0010\n",
            "33/33 [==============================] - 1s 12ms/step - loss: 1.3386 - accuracy: 0.7433\n",
            "--- Starting trial: run-2\n",
            "{'num_units': 128, 'dropout': 0.2, 'optimizer': 'rmsprop'}\n",
            "Epoch 1/50\n",
            "516/516 [==============================] - 84s 160ms/step - loss: 0.6195 - accuracy: 0.7304 - val_loss: 0.4455 - val_accuracy: 0.7931 - lr: 0.0010\n",
            "Epoch 2/50\n",
            "516/516 [==============================] - 82s 160ms/step - loss: 0.5155 - accuracy: 0.7646 - val_loss: 0.4277 - val_accuracy: 0.7950 - lr: 0.0010\n",
            "Epoch 3/50\n",
            "516/516 [==============================] - 82s 160ms/step - loss: 0.4695 - accuracy: 0.8032 - val_loss: 0.4521 - val_accuracy: 0.7672 - lr: 0.0010\n",
            "Epoch 4/50\n",
            "516/516 [==============================] - 82s 159ms/step - loss: 0.4274 - accuracy: 0.8209 - val_loss: 0.3459 - val_accuracy: 0.8305 - lr: 0.0010\n",
            "Epoch 5/50\n",
            "516/516 [==============================] - 81s 158ms/step - loss: 0.3856 - accuracy: 0.8515 - val_loss: 6.5670 - val_accuracy: 0.7423 - lr: 0.0010\n",
            "Epoch 6/50\n",
            "516/516 [==============================] - 81s 157ms/step - loss: 0.3857 - accuracy: 0.8525 - val_loss: 0.4860 - val_accuracy: 0.7989 - lr: 0.0010\n",
            "Epoch 7/50\n",
            "516/516 [==============================] - 82s 158ms/step - loss: 0.3535 - accuracy: 0.8724 - val_loss: 0.4786 - val_accuracy: 0.7768 - lr: 0.0010\n",
            "Epoch 8/50\n",
            "516/516 [==============================] - 81s 157ms/step - loss: 0.3380 - accuracy: 0.8823 - val_loss: 0.4571 - val_accuracy: 0.7854 - lr: 0.0010\n",
            "Epoch 9/50\n",
            "516/516 [==============================] - 81s 158ms/step - loss: 0.3159 - accuracy: 0.8893 - val_loss: 0.8572 - val_accuracy: 0.7423 - lr: 0.0010\n",
            "Epoch 10/50\n",
            "516/516 [==============================] - 81s 158ms/step - loss: 0.2850 - accuracy: 0.8976 - val_loss: 9.4990 - val_accuracy: 0.7452 - lr: 0.0010\n",
            "Epoch 11/50\n",
            "516/516 [==============================] - 81s 157ms/step - loss: 0.3171 - accuracy: 0.8942 - val_loss: 0.7974 - val_accuracy: 0.7883 - lr: 0.0010\n",
            "Epoch 12/50\n",
            "516/516 [==============================] - 81s 156ms/step - loss: 0.3016 - accuracy: 0.9117 - val_loss: 0.5807 - val_accuracy: 0.8707 - lr: 0.0010\n",
            "Epoch 13/50\n",
            "516/516 [==============================] - 80s 156ms/step - loss: 0.2913 - accuracy: 0.9124 - val_loss: 3.7606 - val_accuracy: 0.7423 - lr: 0.0010\n",
            "Epoch 14/50\n",
            "516/516 [==============================] - 80s 155ms/step - loss: 0.2814 - accuracy: 0.9187 - val_loss: 0.6334 - val_accuracy: 0.7596 - lr: 0.0010\n",
            "Epoch 15/50\n",
            "516/516 [==============================] - 80s 156ms/step - loss: 0.2584 - accuracy: 0.9180 - val_loss: 0.6513 - val_accuracy: 0.8266 - lr: 0.0010\n",
            "Epoch 16/50\n",
            "516/516 [==============================] - 81s 156ms/step - loss: 0.2742 - accuracy: 0.9146 - val_loss: 0.8181 - val_accuracy: 0.7433 - lr: 0.0010\n",
            "Epoch 17/50\n",
            "516/516 [==============================] - 80s 156ms/step - loss: 0.2403 - accuracy: 0.9233 - val_loss: 1.7622 - val_accuracy: 0.7490 - lr: 0.0010\n",
            "Epoch 18/50\n",
            "516/516 [==============================] - 81s 157ms/step - loss: 0.2667 - accuracy: 0.9260 - val_loss: 0.9087 - val_accuracy: 0.7423 - lr: 0.0010\n",
            "Epoch 19/50\n",
            "516/516 [==============================] - 81s 157ms/step - loss: 0.2323 - accuracy: 0.9173 - val_loss: 5.0881 - val_accuracy: 0.7510 - lr: 0.0010\n",
            "Epoch 20/50\n",
            "516/516 [==============================] - 80s 156ms/step - loss: 0.2519 - accuracy: 0.9325 - val_loss: 1.4746 - val_accuracy: 0.7452 - lr: 0.0010\n",
            "Epoch 21/50\n",
            "516/516 [==============================] - 80s 156ms/step - loss: 0.2161 - accuracy: 0.9272 - val_loss: 2.3630 - val_accuracy: 0.7366 - lr: 0.0010\n",
            "Epoch 22/50\n",
            "516/516 [==============================] - 80s 156ms/step - loss: 0.2670 - accuracy: 0.9318 - val_loss: 2.0672 - val_accuracy: 0.7414 - lr: 0.0010\n",
            "Epoch 23/50\n",
            "516/516 [==============================] - 80s 155ms/step - loss: 0.2377 - accuracy: 0.9328 - val_loss: 8.0957 - val_accuracy: 0.7433 - lr: 0.0010\n",
            "Epoch 24/50\n",
            "516/516 [==============================] - 80s 154ms/step - loss: 0.2397 - accuracy: 0.9393 - val_loss: 0.3651 - val_accuracy: 0.8640 - lr: 0.0010\n",
            "Epoch 25/50\n",
            "516/516 [==============================] - 81s 157ms/step - loss: 0.2080 - accuracy: 0.9408 - val_loss: 2.0437 - val_accuracy: 0.7577 - lr: 0.0010\n",
            "Epoch 26/50\n",
            "516/516 [==============================] - 81s 157ms/step - loss: 0.2645 - accuracy: 0.9461 - val_loss: 4.0326 - val_accuracy: 0.7615 - lr: 0.0010\n",
            "Epoch 27/50\n",
            "516/516 [==============================] - 80s 156ms/step - loss: 0.1998 - accuracy: 0.9437 - val_loss: 26.3626 - val_accuracy: 0.7423 - lr: 0.0010\n",
            "Epoch 28/50\n",
            "516/516 [==============================] - 79s 154ms/step - loss: 0.2137 - accuracy: 0.9469 - val_loss: 1.7517 - val_accuracy: 0.7797 - lr: 0.0010\n",
            "Epoch 29/50\n",
            "516/516 [==============================] - 80s 155ms/step - loss: 0.2021 - accuracy: 0.9274 - val_loss: 24.1576 - val_accuracy: 0.7423 - lr: 0.0010\n",
            "Epoch 30/50\n",
            "516/516 [==============================] - 80s 155ms/step - loss: 0.2028 - accuracy: 0.9488 - val_loss: 0.5055 - val_accuracy: 0.8218 - lr: 0.0010\n",
            "Epoch 31/50\n",
            "516/516 [==============================] - 80s 155ms/step - loss: 0.2115 - accuracy: 0.9408 - val_loss: 0.7722 - val_accuracy: 0.7969 - lr: 0.0010\n",
            "Epoch 32/50\n",
            "516/516 [==============================] - 80s 155ms/step - loss: 0.2207 - accuracy: 0.9410 - val_loss: 46.6292 - val_accuracy: 0.7404 - lr: 0.0010\n",
            "Epoch 33/50\n",
            "516/516 [==============================] - 80s 154ms/step - loss: 0.1916 - accuracy: 0.9452 - val_loss: 25.4380 - val_accuracy: 0.7443 - lr: 0.0010\n",
            "Epoch 34/50\n",
            "516/516 [==============================] - 80s 155ms/step - loss: 0.2278 - accuracy: 0.9437 - val_loss: 1.5981 - val_accuracy: 0.7490 - lr: 0.0010\n",
            "Epoch 35/50\n",
            "516/516 [==============================] - 80s 156ms/step - loss: 0.2023 - accuracy: 0.9570 - val_loss: 2.7262 - val_accuracy: 0.7395 - lr: 0.0010\n",
            "Epoch 36/50\n",
            "516/516 [==============================] - 80s 155ms/step - loss: 0.2007 - accuracy: 0.9454 - val_loss: 0.5260 - val_accuracy: 0.7759 - lr: 0.0010\n",
            "Epoch 37/50\n",
            "516/516 [==============================] - 80s 155ms/step - loss: 0.1928 - accuracy: 0.9435 - val_loss: 1.0193 - val_accuracy: 0.7921 - lr: 0.0010\n",
            "Epoch 38/50\n",
            "516/516 [==============================] - 81s 156ms/step - loss: 0.2033 - accuracy: 0.9437 - val_loss: 2.8827 - val_accuracy: 0.7452 - lr: 0.0010\n",
            "Epoch 39/50\n",
            "516/516 [==============================] - 81s 157ms/step - loss: 0.1635 - accuracy: 0.9520 - val_loss: 3.4712 - val_accuracy: 0.7462 - lr: 0.0010\n",
            "Epoch 40/50\n",
            "516/516 [==============================] - 81s 157ms/step - loss: 0.2014 - accuracy: 0.9486 - val_loss: 3.0552 - val_accuracy: 0.7874 - lr: 0.0010\n",
            "Epoch 41/50\n",
            "516/516 [==============================] - 82s 160ms/step - loss: 0.1808 - accuracy: 0.9517 - val_loss: 35.1194 - val_accuracy: 0.7423 - lr: 0.0010\n",
            "Epoch 42/50\n",
            "516/516 [==============================] - 82s 159ms/step - loss: 0.1970 - accuracy: 0.9534 - val_loss: 2.3333 - val_accuracy: 0.7347 - lr: 0.0010\n",
            "Epoch 43/50\n",
            "516/516 [==============================] - 81s 157ms/step - loss: 0.1774 - accuracy: 0.9447 - val_loss: 3.6081 - val_accuracy: 0.7414 - lr: 0.0010\n",
            "Epoch 44/50\n",
            "516/516 [==============================] - 81s 157ms/step - loss: 0.2357 - accuracy: 0.9490 - val_loss: 2.6360 - val_accuracy: 0.7778 - lr: 0.0010\n",
            "Epoch 45/50\n",
            "516/516 [==============================] - 80s 156ms/step - loss: 0.1679 - accuracy: 0.9520 - val_loss: 2.1139 - val_accuracy: 0.7529 - lr: 0.0010\n",
            "Epoch 46/50\n",
            "516/516 [==============================] - 81s 156ms/step - loss: 0.1815 - accuracy: 0.9566 - val_loss: 0.4014 - val_accuracy: 0.8285 - lr: 0.0010\n",
            "Epoch 47/50\n",
            "516/516 [==============================] - 81s 157ms/step - loss: 0.2315 - accuracy: 0.9541 - val_loss: 0.8730 - val_accuracy: 0.7481 - lr: 0.0010\n",
            "Epoch 48/50\n",
            "516/516 [==============================] - 82s 160ms/step - loss: 0.1962 - accuracy: 0.9568 - val_loss: 0.8569 - val_accuracy: 0.7481 - lr: 0.0010\n",
            "Epoch 49/50\n",
            "516/516 [==============================] - 84s 164ms/step - loss: 0.1981 - accuracy: 0.9590 - val_loss: 13.3983 - val_accuracy: 0.7433 - lr: 0.0010\n",
            "Epoch 50/50\n",
            "516/516 [==============================] - 84s 164ms/step - loss: 0.1959 - accuracy: 0.9512 - val_loss: 0.5975 - val_accuracy: 0.7519 - lr: 0.0010\n",
            "33/33 [==============================] - 1s 13ms/step - loss: 0.6329 - accuracy: 0.7481\n",
            "--- Starting trial: run-3\n",
            "{'num_units': 128, 'dropout': 0.5, 'optimizer': 'adadelta'}\n",
            "Epoch 1/50\n",
            "516/516 [==============================] - 89s 171ms/step - loss: 1.1610 - accuracy: 0.6724 - val_loss: 0.5619 - val_accuracy: 0.7423 - lr: 0.0010\n",
            "Epoch 2/50\n",
            "516/516 [==============================] - 84s 163ms/step - loss: 1.1224 - accuracy: 0.6659 - val_loss: 0.5693 - val_accuracy: 0.7423 - lr: 0.0010\n",
            "Epoch 3/50\n",
            "516/516 [==============================] - 83s 162ms/step - loss: 1.1110 - accuracy: 0.6620 - val_loss: 0.5653 - val_accuracy: 0.7423 - lr: 0.0010\n",
            "Epoch 4/50\n",
            "516/516 [==============================] - 83s 161ms/step - loss: 1.1037 - accuracy: 0.6622 - val_loss: 0.5675 - val_accuracy: 0.7423 - lr: 0.0010\n",
            "Epoch 5/50\n",
            "516/516 [==============================] - 83s 161ms/step - loss: 1.0819 - accuracy: 0.6736 - val_loss: 0.5702 - val_accuracy: 0.7423 - lr: 0.0010\n",
            "Epoch 6/50\n",
            "516/516 [==============================] - 82s 160ms/step - loss: 1.0430 - accuracy: 0.6588 - val_loss: 0.5719 - val_accuracy: 0.7423 - lr: 0.0010\n",
            "Epoch 7/50\n",
            "516/516 [==============================] - 82s 160ms/step - loss: 1.0428 - accuracy: 0.6617 - val_loss: 0.5681 - val_accuracy: 0.7423 - lr: 0.0010\n",
            "Epoch 8/50\n",
            "516/516 [==============================] - 82s 160ms/step - loss: 1.0076 - accuracy: 0.6639 - val_loss: 0.5659 - val_accuracy: 0.7414 - lr: 0.0010\n",
            "Epoch 9/50\n",
            "516/516 [==============================] - 82s 160ms/step - loss: 0.9950 - accuracy: 0.6671 - val_loss: 0.5669 - val_accuracy: 0.7433 - lr: 0.0010\n",
            "Epoch 10/50\n",
            "516/516 [==============================] - 82s 158ms/step - loss: 1.0436 - accuracy: 0.6600 - val_loss: 0.5683 - val_accuracy: 0.7423 - lr: 0.0010\n",
            "Epoch 11/50\n",
            "516/516 [==============================] - 82s 160ms/step - loss: 0.9867 - accuracy: 0.6562 - val_loss: 0.5690 - val_accuracy: 0.7423 - lr: 0.0010\n",
            "Epoch 12/50\n",
            "516/516 [==============================] - 82s 158ms/step - loss: 0.9997 - accuracy: 0.6552 - val_loss: 0.5669 - val_accuracy: 0.7414 - lr: 0.0010\n",
            "Epoch 13/50\n",
            "516/516 [==============================] - 82s 158ms/step - loss: 0.9875 - accuracy: 0.6518 - val_loss: 0.5659 - val_accuracy: 0.7414 - lr: 0.0010\n",
            "Epoch 14/50\n",
            "516/516 [==============================] - 82s 159ms/step - loss: 0.9070 - accuracy: 0.6579 - val_loss: 0.5688 - val_accuracy: 0.7423 - lr: 0.0010\n",
            "Epoch 15/50\n",
            "516/516 [==============================] - 82s 159ms/step - loss: 0.9506 - accuracy: 0.6537 - val_loss: 0.5637 - val_accuracy: 0.7423 - lr: 0.0010\n",
            "Epoch 16/50\n",
            "516/516 [==============================] - 82s 158ms/step - loss: 0.9382 - accuracy: 0.6595 - val_loss: 0.5663 - val_accuracy: 0.7423 - lr: 0.0010\n",
            "Epoch 17/50\n",
            "516/516 [==============================] - 82s 159ms/step - loss: 0.9360 - accuracy: 0.6452 - val_loss: 0.5683 - val_accuracy: 0.7433 - lr: 0.0010\n",
            "Epoch 18/50\n",
            "516/516 [==============================] - 82s 159ms/step - loss: 0.9036 - accuracy: 0.6625 - val_loss: 0.5642 - val_accuracy: 0.7423 - lr: 0.0010\n",
            "Epoch 19/50\n",
            "516/516 [==============================] - 83s 160ms/step - loss: 0.9034 - accuracy: 0.6477 - val_loss: 0.5683 - val_accuracy: 0.7443 - lr: 0.0010\n",
            "Epoch 20/50\n",
            "516/516 [==============================] - 83s 161ms/step - loss: 0.9141 - accuracy: 0.6520 - val_loss: 0.5662 - val_accuracy: 0.7433 - lr: 0.0010\n",
            "Epoch 21/50\n",
            "516/516 [==============================] - 83s 160ms/step - loss: 0.9158 - accuracy: 0.6469 - val_loss: 0.5647 - val_accuracy: 0.7414 - lr: 0.0010\n",
            "Epoch 22/50\n",
            "516/516 [==============================] - 83s 161ms/step - loss: 0.8989 - accuracy: 0.6552 - val_loss: 0.5666 - val_accuracy: 0.7414 - lr: 0.0010\n",
            "Epoch 23/50\n",
            "516/516 [==============================] - 82s 160ms/step - loss: 0.9238 - accuracy: 0.6501 - val_loss: 0.5633 - val_accuracy: 0.7433 - lr: 0.0010\n",
            "Epoch 24/50\n",
            "516/516 [==============================] - 82s 159ms/step - loss: 0.8754 - accuracy: 0.6511 - val_loss: 0.5663 - val_accuracy: 0.7433 - lr: 0.0010\n",
            "Epoch 25/50\n",
            "516/516 [==============================] - 82s 159ms/step - loss: 0.8673 - accuracy: 0.6605 - val_loss: 0.5686 - val_accuracy: 0.7433 - lr: 0.0010\n",
            "Epoch 26/50\n",
            "516/516 [==============================] - 83s 162ms/step - loss: 0.8669 - accuracy: 0.6472 - val_loss: 0.5650 - val_accuracy: 0.7433 - lr: 0.0010\n",
            "Epoch 27/50\n",
            "516/516 [==============================] - 83s 161ms/step - loss: 0.8524 - accuracy: 0.6452 - val_loss: 0.5648 - val_accuracy: 0.7433 - lr: 0.0010\n",
            "Epoch 28/50\n",
            "516/516 [==============================] - 83s 162ms/step - loss: 0.8730 - accuracy: 0.6462 - val_loss: 0.5676 - val_accuracy: 0.7423 - lr: 0.0010\n",
            "Epoch 29/50\n",
            "516/516 [==============================] - 84s 163ms/step - loss: 0.8285 - accuracy: 0.6440 - val_loss: 0.5663 - val_accuracy: 0.7433 - lr: 0.0010\n",
            "Epoch 30/50\n",
            "516/516 [==============================] - 84s 163ms/step - loss: 0.8320 - accuracy: 0.6591 - val_loss: 0.5667 - val_accuracy: 0.7433 - lr: 0.0010\n",
            "Epoch 31/50\n",
            "516/516 [==============================] - 83s 161ms/step - loss: 0.8289 - accuracy: 0.6469 - val_loss: 0.5650 - val_accuracy: 0.7462 - lr: 0.0010\n",
            "Epoch 32/50\n",
            "516/516 [==============================] - 83s 160ms/step - loss: 0.8263 - accuracy: 0.6430 - val_loss: 0.5630 - val_accuracy: 0.7423 - lr: 0.0010\n",
            "Epoch 33/50\n",
            "516/516 [==============================] - 87s 168ms/step - loss: 0.8324 - accuracy: 0.6472 - val_loss: 0.5657 - val_accuracy: 0.7433 - lr: 0.0010\n",
            "Epoch 34/50\n",
            "516/516 [==============================] - 85s 164ms/step - loss: 0.8374 - accuracy: 0.6377 - val_loss: 0.5653 - val_accuracy: 0.7443 - lr: 0.0010\n",
            "Epoch 35/50\n",
            "516/516 [==============================] - 85s 164ms/step - loss: 0.8192 - accuracy: 0.6474 - val_loss: 0.5652 - val_accuracy: 0.7433 - lr: 0.0010\n",
            "Epoch 36/50\n",
            "516/516 [==============================] - 85s 164ms/step - loss: 0.8021 - accuracy: 0.6569 - val_loss: 0.5657 - val_accuracy: 0.7433 - lr: 0.0010\n",
            "Epoch 37/50\n",
            "516/516 [==============================] - 84s 164ms/step - loss: 0.8008 - accuracy: 0.6486 - val_loss: 0.5600 - val_accuracy: 0.7423 - lr: 0.0010\n",
            "Epoch 38/50\n",
            "516/516 [==============================] - 83s 161ms/step - loss: 0.7984 - accuracy: 0.6503 - val_loss: 0.5612 - val_accuracy: 0.7423 - lr: 0.0010\n",
            "Epoch 39/50\n",
            "516/516 [==============================] - 83s 160ms/step - loss: 0.7986 - accuracy: 0.6518 - val_loss: 0.5655 - val_accuracy: 0.7423 - lr: 0.0010\n",
            "Epoch 40/50\n",
            "516/516 [==============================] - 82s 160ms/step - loss: 0.8177 - accuracy: 0.6452 - val_loss: 0.5607 - val_accuracy: 0.7414 - lr: 0.0010\n",
            "Epoch 41/50\n",
            "516/516 [==============================] - 83s 160ms/step - loss: 0.7943 - accuracy: 0.6445 - val_loss: 0.5607 - val_accuracy: 0.7423 - lr: 0.0010\n",
            "Epoch 42/50\n",
            "516/516 [==============================] - 82s 160ms/step - loss: 0.7862 - accuracy: 0.6472 - val_loss: 0.5609 - val_accuracy: 0.7452 - lr: 0.0010\n",
            "Epoch 43/50\n",
            "516/516 [==============================] - 83s 161ms/step - loss: 0.7854 - accuracy: 0.6506 - val_loss: 0.5610 - val_accuracy: 0.7423 - lr: 0.0010\n",
            "Epoch 44/50\n",
            "516/516 [==============================] - 83s 162ms/step - loss: 0.8040 - accuracy: 0.6564 - val_loss: 0.5612 - val_accuracy: 0.7423 - lr: 0.0010\n",
            "Epoch 45/50\n",
            "516/516 [==============================] - 83s 160ms/step - loss: 0.7868 - accuracy: 0.6428 - val_loss: 0.5606 - val_accuracy: 0.7423 - lr: 0.0010\n",
            "Epoch 46/50\n",
            "516/516 [==============================] - 81s 157ms/step - loss: 0.7436 - accuracy: 0.6629 - val_loss: 0.5645 - val_accuracy: 0.7414 - lr: 0.0010\n",
            "Epoch 47/50\n",
            "516/516 [==============================] - 82s 158ms/step - loss: 0.7540 - accuracy: 0.6481 - val_loss: 0.5599 - val_accuracy: 0.7433 - lr: 0.0010\n",
            "Epoch 48/50\n",
            "516/516 [==============================] - 80s 156ms/step - loss: 0.7536 - accuracy: 0.6559 - val_loss: 0.5629 - val_accuracy: 0.7423 - lr: 0.0010\n",
            "Epoch 49/50\n",
            "516/516 [==============================] - 81s 156ms/step - loss: 0.7589 - accuracy: 0.6503 - val_loss: 0.5637 - val_accuracy: 0.7414 - lr: 0.0010\n",
            "Epoch 50/50\n",
            "516/516 [==============================] - 80s 156ms/step - loss: 0.7502 - accuracy: 0.6593 - val_loss: 0.5660 - val_accuracy: 0.7423 - lr: 0.0010\n",
            "33/33 [==============================] - 1s 12ms/step - loss: 0.5669 - accuracy: 0.7423\n",
            "--- Starting trial: run-4\n",
            "{'num_units': 128, 'dropout': 0.5, 'optimizer': 'adam'}\n",
            "Epoch 1/50\n",
            "516/516 [==============================] - 85s 161ms/step - loss: 0.6255 - accuracy: 0.7304 - val_loss: 0.6111 - val_accuracy: 0.7423 - lr: 0.0010\n",
            "Epoch 2/50\n",
            "516/516 [==============================] - 84s 163ms/step - loss: 0.5819 - accuracy: 0.7425 - val_loss: 0.6589 - val_accuracy: 0.7423 - lr: 0.0010\n",
            "Epoch 3/50\n",
            "516/516 [==============================] - 82s 159ms/step - loss: 0.5637 - accuracy: 0.7430 - val_loss: 1.5987 - val_accuracy: 0.7423 - lr: 0.0010\n",
            "Epoch 4/50\n",
            "516/516 [==============================] - 82s 159ms/step - loss: 0.5306 - accuracy: 0.7430 - val_loss: 0.5178 - val_accuracy: 0.7423 - lr: 0.0010\n",
            "Epoch 5/50\n",
            "516/516 [==============================] - 80s 155ms/step - loss: 0.5096 - accuracy: 0.7418 - val_loss: 0.4133 - val_accuracy: 0.7423 - lr: 0.0010\n",
            "Epoch 6/50\n",
            "516/516 [==============================] - 79s 153ms/step - loss: 0.4908 - accuracy: 0.7433 - val_loss: 0.3997 - val_accuracy: 0.7462 - lr: 0.0010\n",
            "Epoch 7/50\n",
            "516/516 [==============================] - 80s 154ms/step - loss: 0.4758 - accuracy: 0.7700 - val_loss: 0.3491 - val_accuracy: 0.8429 - lr: 0.0010\n",
            "Epoch 8/50\n",
            "516/516 [==============================] - 80s 155ms/step - loss: 0.4375 - accuracy: 0.7884 - val_loss: 0.3612 - val_accuracy: 0.8324 - lr: 0.0010\n",
            "Epoch 9/50\n",
            "516/516 [==============================] - 80s 155ms/step - loss: 0.4217 - accuracy: 0.8037 - val_loss: 0.3076 - val_accuracy: 0.8640 - lr: 0.0010\n",
            "Epoch 10/50\n",
            "516/516 [==============================] - 81s 156ms/step - loss: 0.3990 - accuracy: 0.8180 - val_loss: 0.4613 - val_accuracy: 0.7423 - lr: 0.0010\n",
            "Epoch 11/50\n",
            "516/516 [==============================] - 82s 158ms/step - loss: 0.3897 - accuracy: 0.8316 - val_loss: 0.3917 - val_accuracy: 0.7644 - lr: 0.0010\n",
            "Epoch 12/50\n",
            "516/516 [==============================] - 82s 159ms/step - loss: 0.3629 - accuracy: 0.8442 - val_loss: 0.3834 - val_accuracy: 0.8075 - lr: 0.0010\n",
            "Epoch 13/50\n",
            "516/516 [==============================] - 84s 162ms/step - loss: 0.3558 - accuracy: 0.8522 - val_loss: 0.3305 - val_accuracy: 0.8525 - lr: 0.0010\n",
            "Epoch 14/50\n",
            "516/516 [==============================] - 83s 162ms/step - loss: 0.3366 - accuracy: 0.8590 - val_loss: 0.4215 - val_accuracy: 0.7644 - lr: 0.0010\n",
            "Epoch 15/50\n",
            "516/516 [==============================] - 83s 160ms/step - loss: 0.3306 - accuracy: 0.8673 - val_loss: 0.5121 - val_accuracy: 0.7471 - lr: 0.0010\n",
            "Epoch 16/50\n",
            "516/516 [==============================] - 84s 163ms/step - loss: 0.3235 - accuracy: 0.8673 - val_loss: 0.4183 - val_accuracy: 0.8161 - lr: 0.0010\n",
            "Epoch 17/50\n",
            "516/516 [==============================] - 83s 162ms/step - loss: 0.3096 - accuracy: 0.8782 - val_loss: 0.7728 - val_accuracy: 0.7423 - lr: 0.0010\n",
            "Epoch 18/50\n",
            "516/516 [==============================] - 84s 164ms/step - loss: 0.2970 - accuracy: 0.8745 - val_loss: 0.9248 - val_accuracy: 0.7433 - lr: 0.0010\n",
            "Epoch 19/50\n",
            "516/516 [==============================] - 83s 162ms/step - loss: 0.2800 - accuracy: 0.8889 - val_loss: 0.5777 - val_accuracy: 0.7586 - lr: 0.0010\n",
            "Epoch 20/50\n",
            "516/516 [==============================] - 84s 163ms/step - loss: 0.2791 - accuracy: 0.8959 - val_loss: 0.3124 - val_accuracy: 0.8554 - lr: 0.0010\n",
            "Epoch 21/50\n",
            "516/516 [==============================] - 82s 159ms/step - loss: 0.2892 - accuracy: 0.8881 - val_loss: 1.1328 - val_accuracy: 0.7423 - lr: 0.0010\n",
            "Epoch 22/50\n",
            "516/516 [==============================] - 83s 161ms/step - loss: 0.2713 - accuracy: 0.8874 - val_loss: 0.8196 - val_accuracy: 0.7672 - lr: 0.0010\n",
            "Epoch 23/50\n",
            "516/516 [==============================] - 82s 159ms/step - loss: 0.2667 - accuracy: 0.8935 - val_loss: 0.2994 - val_accuracy: 0.8726 - lr: 0.0010\n",
            "Epoch 24/50\n",
            "516/516 [==============================] - 81s 156ms/step - loss: 0.2480 - accuracy: 0.9029 - val_loss: 0.4446 - val_accuracy: 0.8103 - lr: 0.0010\n",
            "Epoch 25/50\n",
            "516/516 [==============================] - 80s 156ms/step - loss: 0.2540 - accuracy: 0.9015 - val_loss: 0.4734 - val_accuracy: 0.8238 - lr: 0.0010\n",
            "Epoch 26/50\n",
            "516/516 [==============================] - 82s 158ms/step - loss: 0.2388 - accuracy: 0.9071 - val_loss: 1.0386 - val_accuracy: 0.7443 - lr: 0.0010\n",
            "Epoch 27/50\n",
            "516/516 [==============================] - 82s 159ms/step - loss: 0.2318 - accuracy: 0.9029 - val_loss: 1.9584 - val_accuracy: 0.7423 - lr: 0.0010\n",
            "Epoch 28/50\n",
            "516/516 [==============================] - 81s 157ms/step - loss: 0.2325 - accuracy: 0.9153 - val_loss: 0.9820 - val_accuracy: 0.7452 - lr: 0.0010\n",
            "Epoch 29/50\n",
            "516/516 [==============================] - 81s 157ms/step - loss: 0.2424 - accuracy: 0.9100 - val_loss: 1.2637 - val_accuracy: 0.7423 - lr: 0.0010\n",
            "Epoch 30/50\n",
            "516/516 [==============================] - 82s 158ms/step - loss: 0.2414 - accuracy: 0.9090 - val_loss: 0.4367 - val_accuracy: 0.8027 - lr: 0.0010\n",
            "Epoch 31/50\n",
            "516/516 [==============================] - 82s 158ms/step - loss: 0.2170 - accuracy: 0.9177 - val_loss: 1.7039 - val_accuracy: 0.7423 - lr: 0.0010\n",
            "Epoch 32/50\n",
            "516/516 [==============================] - 82s 158ms/step - loss: 0.2165 - accuracy: 0.9163 - val_loss: 0.5042 - val_accuracy: 0.7749 - lr: 0.0010\n",
            "Epoch 33/50\n",
            "516/516 [==============================] - 81s 157ms/step - loss: 0.2181 - accuracy: 0.9197 - val_loss: 0.4853 - val_accuracy: 0.8046 - lr: 0.0010\n",
            "Epoch 34/50\n",
            "516/516 [==============================] - 81s 156ms/step - loss: 0.2118 - accuracy: 0.9216 - val_loss: 0.9085 - val_accuracy: 0.7443 - lr: 0.0010\n",
            "Epoch 35/50\n",
            "516/516 [==============================] - 81s 157ms/step - loss: 0.1948 - accuracy: 0.9260 - val_loss: 1.9072 - val_accuracy: 0.7423 - lr: 0.0010\n",
            "Epoch 36/50\n",
            "516/516 [==============================] - 83s 162ms/step - loss: 0.2034 - accuracy: 0.9262 - val_loss: 0.8347 - val_accuracy: 0.7644 - lr: 0.0010\n",
            "Epoch 37/50\n",
            "516/516 [==============================] - 81s 157ms/step - loss: 0.2158 - accuracy: 0.9233 - val_loss: 1.1052 - val_accuracy: 0.7433 - lr: 0.0010\n",
            "Epoch 38/50\n",
            "516/516 [==============================] - 81s 158ms/step - loss: 0.1994 - accuracy: 0.9255 - val_loss: 1.1209 - val_accuracy: 0.7395 - lr: 0.0010\n",
            "Epoch 39/50\n",
            "516/516 [==============================] - 82s 159ms/step - loss: 0.1901 - accuracy: 0.9321 - val_loss: 1.7156 - val_accuracy: 0.7423 - lr: 0.0010\n",
            "Epoch 40/50\n",
            "516/516 [==============================] - 83s 160ms/step - loss: 0.2013 - accuracy: 0.9253 - val_loss: 1.0674 - val_accuracy: 0.7481 - lr: 0.0010\n",
            "Epoch 41/50\n",
            "516/516 [==============================] - 81s 158ms/step - loss: 0.1769 - accuracy: 0.9330 - val_loss: 1.6002 - val_accuracy: 0.7471 - lr: 0.0010\n",
            "Epoch 42/50\n",
            "516/516 [==============================] - 81s 157ms/step - loss: 0.2022 - accuracy: 0.9274 - val_loss: 0.6046 - val_accuracy: 0.7807 - lr: 0.0010\n",
            "Epoch 43/50\n",
            "516/516 [==============================] - 81s 157ms/step - loss: 0.1776 - accuracy: 0.9304 - val_loss: 2.0170 - val_accuracy: 0.7423 - lr: 0.0010\n",
            "Epoch 44/50\n",
            "516/516 [==============================] - 81s 157ms/step - loss: 0.1910 - accuracy: 0.9287 - val_loss: 0.9648 - val_accuracy: 0.7644 - lr: 0.0010\n",
            "Epoch 45/50\n",
            "516/516 [==============================] - 81s 156ms/step - loss: 0.1772 - accuracy: 0.9352 - val_loss: 1.2357 - val_accuracy: 0.7462 - lr: 0.0010\n",
            "Epoch 46/50\n",
            "516/516 [==============================] - 81s 156ms/step - loss: 0.1932 - accuracy: 0.9388 - val_loss: 1.6882 - val_accuracy: 0.7433 - lr: 0.0010\n",
            "Epoch 47/50\n",
            "516/516 [==============================] - 80s 156ms/step - loss: 0.1949 - accuracy: 0.9381 - val_loss: 0.6890 - val_accuracy: 0.7510 - lr: 0.0010\n",
            "Epoch 48/50\n",
            "516/516 [==============================] - 80s 155ms/step - loss: 0.1843 - accuracy: 0.9335 - val_loss: 0.9391 - val_accuracy: 0.7423 - lr: 0.0010\n",
            "Epoch 49/50\n",
            "516/516 [==============================] - 81s 156ms/step - loss: 0.1746 - accuracy: 0.9437 - val_loss: 1.0212 - val_accuracy: 0.7557 - lr: 0.0010\n",
            "Epoch 50/50\n",
            "516/516 [==============================] - 81s 156ms/step - loss: 0.1830 - accuracy: 0.9403 - val_loss: 0.9946 - val_accuracy: 0.7462 - lr: 0.0010\n",
            "33/33 [==============================] - 1s 13ms/step - loss: 1.0040 - accuracy: 0.7471\n",
            "--- Starting trial: run-5\n",
            "{'num_units': 128, 'dropout': 0.5, 'optimizer': 'rmsprop'}\n",
            "Epoch 1/50\n",
            "516/516 [==============================] - 84s 159ms/step - loss: 0.6759 - accuracy: 0.7197 - val_loss: 0.5456 - val_accuracy: 0.7423 - lr: 0.0010\n",
            "Epoch 2/50\n",
            " 85/516 [===>..........................] - ETA: 52s - loss: 0.5381 - accuracy: 0.8103"
          ]
        }
      ]
    },
    {
      "cell_type": "markdown",
      "metadata": {
        "id": "OZKr8vQu8l-c"
      },
      "source": [
        "**MODELLING**"
      ]
    },
    {
      "cell_type": "code",
      "metadata": {
        "colab": {
          "base_uri": "https://localhost:8080/"
        },
        "id": "TTNjQDNJkrVI",
        "outputId": "6f9e1fa4-8786-43ec-8962-2d2819b2628e"
      },
      "source": [
        "# Model 1\n",
        "model = Sequential()\n",
        "model.add(Conv2D(32 , (3,3) , strides = 1 , padding = 'same' , activation = 'relu' , input_shape = (150,150,1)))\n",
        "model.add(BatchNormalization())\n",
        "model.add(MaxPool2D((2,2) , strides = 2 , padding = 'same'))\n",
        "\n",
        "model.add(Conv2D(64 , (3,3) , strides = 1 , padding = 'same' , activation = 'relu'))\n",
        "model.add(Dropout(0.1))\n",
        "model.add(BatchNormalization())\n",
        "model.add(MaxPool2D((2,2) , strides = 2 , padding = 'same'))\n",
        "\n",
        "model.add(Conv2D(64 , (3,3) , strides = 1 , padding = 'same' , activation = 'relu'))\n",
        "model.add(BatchNormalization())\n",
        "model.add(MaxPool2D((2,2) , strides = 2 , padding = 'same'))\n",
        "\n",
        "model.add(Conv2D(128 , (3,3) , strides = 1 , padding = 'same' , activation = 'relu'))\n",
        "model.add(Dropout(0.15))\n",
        "model.add(BatchNormalization())\n",
        "model.add(MaxPool2D((2,2) , strides = 2 , padding = 'same'))\n",
        "\n",
        "model.add(Conv2D(256 , (3,3) , strides = 1 , padding = 'same' , activation = 'relu'))\n",
        "model.add(Dropout(0.2))\n",
        "model.add(BatchNormalization())\n",
        "model.add(MaxPool2D((2,2) , strides = 2 , padding = 'same'))\n",
        "\n",
        "model.add(Flatten())\n",
        "model.add(Dense(units = 128 , activation = 'relu'))\n",
        "model.add(Dropout(0.2))\n",
        "\n",
        "model.add(Dense(units = 1 , activation = 'sigmoid'))\n",
        "model.compile(optimizer = \"adam\" , loss = 'binary_crossentropy' , metrics = ['accuracy'])\n",
        "model.summary()"
      ],
      "execution_count": null,
      "outputs": [
        {
          "output_type": "stream",
          "name": "stdout",
          "text": [
            "Model: \"sequential_1\"\n",
            "_________________________________________________________________\n",
            " Layer (type)                Output Shape              Param #   \n",
            "=================================================================\n",
            " conv2d_5 (Conv2D)           (None, 150, 150, 32)      320       \n",
            "                                                                 \n",
            " batch_normalization_5 (Batc  (None, 150, 150, 32)     128       \n",
            " hNormalization)                                                 \n",
            "                                                                 \n",
            " max_pooling2d_5 (MaxPooling  (None, 75, 75, 32)       0         \n",
            " 2D)                                                             \n",
            "                                                                 \n",
            " conv2d_6 (Conv2D)           (None, 75, 75, 64)        18496     \n",
            "                                                                 \n",
            " dropout_4 (Dropout)         (None, 75, 75, 64)        0         \n",
            "                                                                 \n",
            " batch_normalization_6 (Batc  (None, 75, 75, 64)       256       \n",
            " hNormalization)                                                 \n",
            "                                                                 \n",
            " max_pooling2d_6 (MaxPooling  (None, 38, 38, 64)       0         \n",
            " 2D)                                                             \n",
            "                                                                 \n",
            " conv2d_7 (Conv2D)           (None, 38, 38, 64)        36928     \n",
            "                                                                 \n",
            " batch_normalization_7 (Batc  (None, 38, 38, 64)       256       \n",
            " hNormalization)                                                 \n",
            "                                                                 \n",
            " max_pooling2d_7 (MaxPooling  (None, 19, 19, 64)       0         \n",
            " 2D)                                                             \n",
            "                                                                 \n",
            " conv2d_8 (Conv2D)           (None, 19, 19, 128)       73856     \n",
            "                                                                 \n",
            " dropout_5 (Dropout)         (None, 19, 19, 128)       0         \n",
            "                                                                 \n",
            " batch_normalization_8 (Batc  (None, 19, 19, 128)      512       \n",
            " hNormalization)                                                 \n",
            "                                                                 \n",
            " max_pooling2d_8 (MaxPooling  (None, 10, 10, 128)      0         \n",
            " 2D)                                                             \n",
            "                                                                 \n",
            " conv2d_9 (Conv2D)           (None, 10, 10, 256)       295168    \n",
            "                                                                 \n",
            " dropout_6 (Dropout)         (None, 10, 10, 256)       0         \n",
            "                                                                 \n",
            " batch_normalization_9 (Batc  (None, 10, 10, 256)      1024      \n",
            " hNormalization)                                                 \n",
            "                                                                 \n",
            " max_pooling2d_9 (MaxPooling  (None, 5, 5, 256)        0         \n",
            " 2D)                                                             \n",
            "                                                                 \n",
            " flatten_1 (Flatten)         (None, 6400)              0         \n",
            "                                                                 \n",
            " dense_2 (Dense)             (None, 128)               819328    \n",
            "                                                                 \n",
            " dropout_7 (Dropout)         (None, 128)               0         \n",
            "                                                                 \n",
            " dense_3 (Dense)             (None, 1)                 129       \n",
            "                                                                 \n",
            "=================================================================\n",
            "Total params: 1,246,401\n",
            "Trainable params: 1,245,313\n",
            "Non-trainable params: 1,088\n",
            "_________________________________________________________________\n"
          ]
        }
      ]
    },
    {
      "cell_type": "code",
      "metadata": {
        "id": "5cnXkzcwopy-"
      },
      "source": [
        "learning_rate_reduction = ReduceLROnPlateau(monitor='val_accuracy', patience = 2, verbose=1,factor=0.3, min_lr=0.000001)"
      ],
      "execution_count": null,
      "outputs": []
    },
    {
      "cell_type": "code",
      "metadata": {
        "colab": {
          "base_uri": "https://localhost:8080/"
        },
        "id": "fPsU71Gwo6KN",
        "outputId": "9139fbcb-ae1e-4e6d-f631-bfe366e52dc8"
      },
      "source": [
        "history = model.fit(datagen.flow(x_train,y_train, batch_size = 32) ,\n",
        "                    epochs = 50 , validation_data = datagen.flow(x_val, y_val) ,\n",
        "                    callbacks = [learning_rate_reduction])"
      ],
      "execution_count": null,
      "outputs": [
        {
          "output_type": "stream",
          "name": "stdout",
          "text": [
            "Epoch 1/50\n",
            "129/129 [==============================] - 27s 122ms/step - loss: 0.4493 - accuracy: 0.8265 - val_loss: 7.6721 - val_accuracy: 0.7423 - lr: 0.0010\n",
            "Epoch 2/50\n",
            "129/129 [==============================] - 15s 113ms/step - loss: 0.2327 - accuracy: 0.8959 - val_loss: 6.3947 - val_accuracy: 0.7423 - lr: 0.0010\n",
            "Epoch 3/50\n",
            "129/129 [==============================] - ETA: 0s - loss: 0.2159 - accuracy: 0.9146\n",
            "Epoch 00003: ReduceLROnPlateau reducing learning rate to 0.0003000000142492354.\n",
            "129/129 [==============================] - 15s 113ms/step - loss: 0.2159 - accuracy: 0.9146 - val_loss: 6.1465 - val_accuracy: 0.7423 - lr: 0.0010\n",
            "Epoch 4/50\n",
            "129/129 [==============================] - 15s 113ms/step - loss: 0.1856 - accuracy: 0.9321 - val_loss: 3.5506 - val_accuracy: 0.7423 - lr: 3.0000e-04\n",
            "Epoch 5/50\n",
            "129/129 [==============================] - 15s 113ms/step - loss: 0.1657 - accuracy: 0.9342 - val_loss: 0.1594 - val_accuracy: 0.9406 - lr: 3.0000e-04\n",
            "Epoch 6/50\n",
            "129/129 [==============================] - 15s 112ms/step - loss: 0.1518 - accuracy: 0.9454 - val_loss: 1.0394 - val_accuracy: 0.7577 - lr: 3.0000e-04\n",
            "Epoch 7/50\n",
            "129/129 [==============================] - 15s 113ms/step - loss: 0.1461 - accuracy: 0.9481 - val_loss: 0.1259 - val_accuracy: 0.9598 - lr: 3.0000e-04\n",
            "Epoch 8/50\n",
            "129/129 [==============================] - 15s 113ms/step - loss: 0.1349 - accuracy: 0.9537 - val_loss: 0.1297 - val_accuracy: 0.9531 - lr: 3.0000e-04\n",
            "Epoch 9/50\n",
            "129/129 [==============================] - 15s 113ms/step - loss: 0.1331 - accuracy: 0.9498 - val_loss: 0.1130 - val_accuracy: 0.9626 - lr: 3.0000e-04\n",
            "Epoch 10/50\n",
            "129/129 [==============================] - 15s 113ms/step - loss: 0.1335 - accuracy: 0.9512 - val_loss: 0.1326 - val_accuracy: 0.9454 - lr: 3.0000e-04\n",
            "Epoch 11/50\n",
            "129/129 [==============================] - ETA: 0s - loss: 0.1201 - accuracy: 0.9583\n",
            "Epoch 00011: ReduceLROnPlateau reducing learning rate to 9.000000427477062e-05.\n",
            "129/129 [==============================] - 15s 113ms/step - loss: 0.1201 - accuracy: 0.9583 - val_loss: 0.1940 - val_accuracy: 0.9330 - lr: 3.0000e-04\n",
            "Epoch 12/50\n",
            "129/129 [==============================] - 15s 113ms/step - loss: 0.1160 - accuracy: 0.9583 - val_loss: 0.1075 - val_accuracy: 0.9713 - lr: 9.0000e-05\n",
            "Epoch 13/50\n",
            "129/129 [==============================] - 15s 113ms/step - loss: 0.1108 - accuracy: 0.9619 - val_loss: 0.0901 - val_accuracy: 0.9732 - lr: 9.0000e-05\n",
            "Epoch 14/50\n",
            "129/129 [==============================] - 15s 113ms/step - loss: 0.1049 - accuracy: 0.9648 - val_loss: 0.1116 - val_accuracy: 0.9665 - lr: 9.0000e-05\n",
            "Epoch 15/50\n",
            "129/129 [==============================] - ETA: 0s - loss: 0.0995 - accuracy: 0.9638\n",
            "Epoch 00015: ReduceLROnPlateau reducing learning rate to 2.700000040931627e-05.\n",
            "129/129 [==============================] - 14s 112ms/step - loss: 0.0995 - accuracy: 0.9638 - val_loss: 0.2942 - val_accuracy: 0.8889 - lr: 9.0000e-05\n",
            "Epoch 16/50\n",
            "129/129 [==============================] - 15s 112ms/step - loss: 0.0942 - accuracy: 0.9682 - val_loss: 0.0786 - val_accuracy: 0.9761 - lr: 2.7000e-05\n",
            "Epoch 17/50\n",
            "129/129 [==============================] - 14s 112ms/step - loss: 0.0938 - accuracy: 0.9692 - val_loss: 0.0859 - val_accuracy: 0.9713 - lr: 2.7000e-05\n",
            "Epoch 18/50\n",
            "129/129 [==============================] - ETA: 0s - loss: 0.0891 - accuracy: 0.9699\n",
            "Epoch 00018: ReduceLROnPlateau reducing learning rate to 8.100000013655517e-06.\n",
            "129/129 [==============================] - 14s 112ms/step - loss: 0.0891 - accuracy: 0.9699 - val_loss: 0.0908 - val_accuracy: 0.9732 - lr: 2.7000e-05\n",
            "Epoch 19/50\n",
            "129/129 [==============================] - 14s 111ms/step - loss: 0.0940 - accuracy: 0.9702 - val_loss: 0.0866 - val_accuracy: 0.9761 - lr: 8.1000e-06\n",
            "Epoch 20/50\n",
            "129/129 [==============================] - ETA: 0s - loss: 0.0890 - accuracy: 0.9689\n",
            "Epoch 00020: ReduceLROnPlateau reducing learning rate to 2.429999949526973e-06.\n",
            "129/129 [==============================] - 15s 114ms/step - loss: 0.0890 - accuracy: 0.9689 - val_loss: 0.0797 - val_accuracy: 0.9722 - lr: 8.1000e-06\n",
            "Epoch 21/50\n",
            "129/129 [==============================] - 15s 114ms/step - loss: 0.0897 - accuracy: 0.9685 - val_loss: 0.0885 - val_accuracy: 0.9732 - lr: 2.4300e-06\n",
            "Epoch 22/50\n",
            "129/129 [==============================] - ETA: 0s - loss: 0.0878 - accuracy: 0.9699\n",
            "Epoch 00022: ReduceLROnPlateau reducing learning rate to 1e-06.\n",
            "129/129 [==============================] - 15s 118ms/step - loss: 0.0878 - accuracy: 0.9699 - val_loss: 0.0865 - val_accuracy: 0.9722 - lr: 2.4300e-06\n",
            "Epoch 23/50\n",
            "129/129 [==============================] - 15s 115ms/step - loss: 0.0794 - accuracy: 0.9726 - val_loss: 0.0800 - val_accuracy: 0.9751 - lr: 1.0000e-06\n",
            "Epoch 24/50\n",
            "129/129 [==============================] - 15s 118ms/step - loss: 0.0860 - accuracy: 0.9719 - val_loss: 0.0760 - val_accuracy: 0.9770 - lr: 1.0000e-06\n",
            "Epoch 25/50\n",
            "129/129 [==============================] - 15s 117ms/step - loss: 0.0811 - accuracy: 0.9702 - val_loss: 0.0770 - val_accuracy: 0.9693 - lr: 1.0000e-06\n",
            "Epoch 26/50\n",
            "129/129 [==============================] - 15s 117ms/step - loss: 0.0871 - accuracy: 0.9675 - val_loss: 0.0859 - val_accuracy: 0.9713 - lr: 1.0000e-06\n",
            "Epoch 27/50\n",
            "129/129 [==============================] - 15s 115ms/step - loss: 0.0930 - accuracy: 0.9687 - val_loss: 0.0755 - val_accuracy: 0.9780 - lr: 1.0000e-06\n",
            "Epoch 28/50\n",
            "129/129 [==============================] - 15s 117ms/step - loss: 0.0816 - accuracy: 0.9736 - val_loss: 0.0741 - val_accuracy: 0.9780 - lr: 1.0000e-06\n",
            "Epoch 29/50\n",
            "129/129 [==============================] - 15s 116ms/step - loss: 0.0881 - accuracy: 0.9675 - val_loss: 0.0892 - val_accuracy: 0.9732 - lr: 1.0000e-06\n",
            "Epoch 30/50\n",
            "129/129 [==============================] - 15s 116ms/step - loss: 0.0827 - accuracy: 0.9714 - val_loss: 0.0791 - val_accuracy: 0.9684 - lr: 1.0000e-06\n",
            "Epoch 31/50\n",
            "129/129 [==============================] - 15s 114ms/step - loss: 0.0862 - accuracy: 0.9702 - val_loss: 0.0892 - val_accuracy: 0.9732 - lr: 1.0000e-06\n",
            "Epoch 32/50\n",
            "129/129 [==============================] - 15s 113ms/step - loss: 0.0827 - accuracy: 0.9709 - val_loss: 0.0741 - val_accuracy: 0.9761 - lr: 1.0000e-06\n",
            "Epoch 33/50\n",
            "129/129 [==============================] - 15s 113ms/step - loss: 0.0860 - accuracy: 0.9723 - val_loss: 0.0870 - val_accuracy: 0.9665 - lr: 1.0000e-06\n",
            "Epoch 34/50\n",
            "129/129 [==============================] - 15s 114ms/step - loss: 0.0844 - accuracy: 0.9706 - val_loss: 0.0959 - val_accuracy: 0.9703 - lr: 1.0000e-06\n",
            "Epoch 35/50\n",
            "129/129 [==============================] - 15s 113ms/step - loss: 0.0925 - accuracy: 0.9675 - val_loss: 0.0800 - val_accuracy: 0.9770 - lr: 1.0000e-06\n",
            "Epoch 36/50\n",
            "129/129 [==============================] - 15s 112ms/step - loss: 0.0855 - accuracy: 0.9719 - val_loss: 0.0800 - val_accuracy: 0.9722 - lr: 1.0000e-06\n",
            "Epoch 37/50\n",
            "129/129 [==============================] - 15s 113ms/step - loss: 0.0875 - accuracy: 0.9670 - val_loss: 0.0796 - val_accuracy: 0.9693 - lr: 1.0000e-06\n",
            "Epoch 38/50\n",
            "129/129 [==============================] - 15s 113ms/step - loss: 0.0895 - accuracy: 0.9672 - val_loss: 0.0864 - val_accuracy: 0.9780 - lr: 1.0000e-06\n",
            "Epoch 39/50\n",
            "129/129 [==============================] - 15s 113ms/step - loss: 0.0776 - accuracy: 0.9748 - val_loss: 0.0866 - val_accuracy: 0.9722 - lr: 1.0000e-06\n",
            "Epoch 40/50\n",
            "129/129 [==============================] - 15s 112ms/step - loss: 0.0895 - accuracy: 0.9699 - val_loss: 0.0775 - val_accuracy: 0.9770 - lr: 1.0000e-06\n",
            "Epoch 41/50\n",
            "129/129 [==============================] - 15s 114ms/step - loss: 0.0834 - accuracy: 0.9716 - val_loss: 0.0779 - val_accuracy: 0.9751 - lr: 1.0000e-06\n",
            "Epoch 42/50\n",
            "129/129 [==============================] - 15s 114ms/step - loss: 0.0855 - accuracy: 0.9692 - val_loss: 0.0810 - val_accuracy: 0.9732 - lr: 1.0000e-06\n",
            "Epoch 43/50\n",
            "129/129 [==============================] - 15s 114ms/step - loss: 0.0871 - accuracy: 0.9709 - val_loss: 0.0848 - val_accuracy: 0.9741 - lr: 1.0000e-06\n",
            "Epoch 44/50\n",
            "129/129 [==============================] - 15s 113ms/step - loss: 0.0934 - accuracy: 0.9685 - val_loss: 0.0785 - val_accuracy: 0.9799 - lr: 1.0000e-06\n",
            "Epoch 45/50\n",
            "129/129 [==============================] - 15s 114ms/step - loss: 0.0898 - accuracy: 0.9668 - val_loss: 0.1008 - val_accuracy: 0.9674 - lr: 1.0000e-06\n",
            "Epoch 46/50\n",
            "129/129 [==============================] - 15s 113ms/step - loss: 0.0850 - accuracy: 0.9706 - val_loss: 0.0868 - val_accuracy: 0.9674 - lr: 1.0000e-06\n",
            "Epoch 47/50\n",
            "129/129 [==============================] - 15s 113ms/step - loss: 0.0852 - accuracy: 0.9687 - val_loss: 0.0817 - val_accuracy: 0.9713 - lr: 1.0000e-06\n",
            "Epoch 48/50\n",
            "129/129 [==============================] - 15s 114ms/step - loss: 0.0804 - accuracy: 0.9723 - val_loss: 0.0790 - val_accuracy: 0.9741 - lr: 1.0000e-06\n",
            "Epoch 49/50\n",
            "129/129 [==============================] - 14s 112ms/step - loss: 0.0749 - accuracy: 0.9750 - val_loss: 0.0737 - val_accuracy: 0.9780 - lr: 1.0000e-06\n",
            "Epoch 50/50\n",
            "129/129 [==============================] - 15s 113ms/step - loss: 0.0863 - accuracy: 0.9675 - val_loss: 0.0833 - val_accuracy: 0.9722 - lr: 1.0000e-06\n"
          ]
        }
      ]
    },
    {
      "cell_type": "code",
      "metadata": {
        "colab": {
          "base_uri": "https://localhost:8080/"
        },
        "id": "gJiD4VcA7sdn",
        "outputId": "4a70f72b-2011-41d8-f426-b4aeb4b38839"
      },
      "source": [
        "# Model 2\n",
        "model2 = Sequential()\n",
        "model2.add(Conv2D(32 , (3,3) , strides = 1 , padding = 'same' , activation = 'relu' , input_shape = (150,150,1)))\n",
        "model2.add(BatchNormalization())\n",
        "model2.add(AveragePooling2D((2,2) , strides = 2 , padding = 'same'))\n",
        "\n",
        "model2.add(Conv2D(64 , (3,3) , strides = 1 , padding = 'same' , activation = 'relu'))\n",
        "model2.add(Dropout(0.2))\n",
        "model2.add(BatchNormalization())\n",
        "model2.add(AveragePooling2D((2,2) , strides = 2 , padding = 'same'))\n",
        "\n",
        "model2.add(Conv2D(64 , (3,3) , strides = 1 , padding = 'same' , activation = 'relu'))\n",
        "model2.add(BatchNormalization())\n",
        "model2.add(AveragePooling2D((2,2) , strides = 2 , padding = 'same'))\n",
        "\n",
        "model2.add(Conv2D(128 , (3,3) , strides = 1 , padding = 'same' , activation = 'relu'))\n",
        "model2.add(Dropout(0.20))\n",
        "model2.add(BatchNormalization())\n",
        "model2.add(AveragePooling2D((2,2) , strides = 2 , padding = 'same'))\n",
        "\n",
        "model2.add(Conv2D(256 , (3,3) , strides = 1 , padding = 'same' , activation = 'relu'))\n",
        "model2.add(Dropout(0.3))\n",
        "model2.add(BatchNormalization())\n",
        "model2.add(AveragePooling2D((2,2) , strides = 2 , padding = 'same'))\n",
        "\n",
        "model2.add(Flatten())\n",
        "model2.add(Dense(units = 145 , activation = 'relu'))\n",
        "model2.add(Dropout(0.5))\n",
        "\n",
        "model2.add(Dense(units = 1 , activation = 'sigmoid'))\n",
        "model2.compile(optimizer = \"adam\" , loss = 'binary_crossentropy' , metrics = ['accuracy'])\n",
        "model2.summary()"
      ],
      "execution_count": null,
      "outputs": [
        {
          "output_type": "stream",
          "name": "stdout",
          "text": [
            "Model: \"sequential_2\"\n",
            "_________________________________________________________________\n",
            " Layer (type)                Output Shape              Param #   \n",
            "=================================================================\n",
            " conv2d_10 (Conv2D)          (None, 150, 150, 32)      320       \n",
            "                                                                 \n",
            " batch_normalization_10 (Bat  (None, 150, 150, 32)     128       \n",
            " chNormalization)                                                \n",
            "                                                                 \n",
            " average_pooling2d (AverageP  (None, 75, 75, 32)       0         \n",
            " ooling2D)                                                       \n",
            "                                                                 \n",
            " conv2d_11 (Conv2D)          (None, 75, 75, 64)        18496     \n",
            "                                                                 \n",
            " dropout_8 (Dropout)         (None, 75, 75, 64)        0         \n",
            "                                                                 \n",
            " batch_normalization_11 (Bat  (None, 75, 75, 64)       256       \n",
            " chNormalization)                                                \n",
            "                                                                 \n",
            " average_pooling2d_1 (Averag  (None, 38, 38, 64)       0         \n",
            " ePooling2D)                                                     \n",
            "                                                                 \n",
            " conv2d_12 (Conv2D)          (None, 38, 38, 64)        36928     \n",
            "                                                                 \n",
            " batch_normalization_12 (Bat  (None, 38, 38, 64)       256       \n",
            " chNormalization)                                                \n",
            "                                                                 \n",
            " average_pooling2d_2 (Averag  (None, 19, 19, 64)       0         \n",
            " ePooling2D)                                                     \n",
            "                                                                 \n",
            " conv2d_13 (Conv2D)          (None, 19, 19, 128)       73856     \n",
            "                                                                 \n",
            " dropout_9 (Dropout)         (None, 19, 19, 128)       0         \n",
            "                                                                 \n",
            " batch_normalization_13 (Bat  (None, 19, 19, 128)      512       \n",
            " chNormalization)                                                \n",
            "                                                                 \n",
            " average_pooling2d_3 (Averag  (None, 10, 10, 128)      0         \n",
            " ePooling2D)                                                     \n",
            "                                                                 \n",
            " conv2d_14 (Conv2D)          (None, 10, 10, 256)       295168    \n",
            "                                                                 \n",
            " dropout_10 (Dropout)        (None, 10, 10, 256)       0         \n",
            "                                                                 \n",
            " batch_normalization_14 (Bat  (None, 10, 10, 256)      1024      \n",
            " chNormalization)                                                \n",
            "                                                                 \n",
            " average_pooling2d_4 (Averag  (None, 5, 5, 256)        0         \n",
            " ePooling2D)                                                     \n",
            "                                                                 \n",
            " flatten_2 (Flatten)         (None, 6400)              0         \n",
            "                                                                 \n",
            " dense_4 (Dense)             (None, 145)               928145    \n",
            "                                                                 \n",
            " dropout_11 (Dropout)        (None, 145)               0         \n",
            "                                                                 \n",
            " dense_5 (Dense)             (None, 1)                 146       \n",
            "                                                                 \n",
            "=================================================================\n",
            "Total params: 1,355,235\n",
            "Trainable params: 1,354,147\n",
            "Non-trainable params: 1,088\n",
            "_________________________________________________________________\n"
          ]
        }
      ]
    },
    {
      "cell_type": "code",
      "metadata": {
        "id": "cuuV7HYB8Uaj"
      },
      "source": [
        "learning_rate_reduction = ReduceLROnPlateau(monitor='val_accuracy', patience = 2, verbose=1,factor=0.3, min_lr=0.000001)"
      ],
      "execution_count": null,
      "outputs": []
    },
    {
      "cell_type": "code",
      "metadata": {
        "colab": {
          "base_uri": "https://localhost:8080/"
        },
        "id": "z98gajiO8XXA",
        "outputId": "e21329ec-96dc-4f22-dfae-f8c9d54adb5d"
      },
      "source": [
        "History = model2.fit(datagen.flow(x_train,y_train, batch_size = 32) ,\n",
        "                    epochs = 50 , validation_data = datagen.flow(x_val, y_val) ,\n",
        "                    callbacks = [learning_rate_reduction])"
      ],
      "execution_count": null,
      "outputs": [
        {
          "output_type": "stream",
          "name": "stdout",
          "text": [
            "Epoch 1/50\n",
            "129/129 [==============================] - 16s 117ms/step - loss: 0.3624 - accuracy: 0.8556 - val_loss: 3.2252 - val_accuracy: 0.2577 - lr: 0.0010\n",
            "Epoch 2/50\n",
            "129/129 [==============================] - 15s 113ms/step - loss: 0.2640 - accuracy: 0.8947 - val_loss: 3.9372 - val_accuracy: 0.7423 - lr: 0.0010\n",
            "Epoch 3/50\n",
            "129/129 [==============================] - 14s 109ms/step - loss: 0.2299 - accuracy: 0.9056 - val_loss: 3.2486 - val_accuracy: 0.7423 - lr: 0.0010\n",
            "Epoch 4/50\n",
            "129/129 [==============================] - 15s 113ms/step - loss: 0.2173 - accuracy: 0.9117 - val_loss: 2.0971 - val_accuracy: 0.7481 - lr: 0.0010\n",
            "Epoch 5/50\n",
            "129/129 [==============================] - 15s 116ms/step - loss: 0.1941 - accuracy: 0.9223 - val_loss: 2.7239 - val_accuracy: 0.7490 - lr: 0.0010\n",
            "Epoch 6/50\n",
            "129/129 [==============================] - 14s 111ms/step - loss: 0.1978 - accuracy: 0.9243 - val_loss: 0.2505 - val_accuracy: 0.8908 - lr: 0.0010\n",
            "Epoch 7/50\n",
            "129/129 [==============================] - 15s 114ms/step - loss: 0.1820 - accuracy: 0.9335 - val_loss: 0.1673 - val_accuracy: 0.9406 - lr: 0.0010\n",
            "Epoch 8/50\n",
            "129/129 [==============================] - 14s 111ms/step - loss: 0.1803 - accuracy: 0.9347 - val_loss: 0.2201 - val_accuracy: 0.9023 - lr: 0.0010\n",
            "Epoch 9/50\n",
            "129/129 [==============================] - ETA: 0s - loss: 0.1668 - accuracy: 0.9384\n",
            "Epoch 00009: ReduceLROnPlateau reducing learning rate to 0.0003000000142492354.\n",
            "129/129 [==============================] - 15s 114ms/step - loss: 0.1668 - accuracy: 0.9384 - val_loss: 0.2202 - val_accuracy: 0.9100 - lr: 0.0010\n",
            "Epoch 10/50\n",
            "129/129 [==============================] - 15s 113ms/step - loss: 0.1443 - accuracy: 0.9456 - val_loss: 0.1545 - val_accuracy: 0.9349 - lr: 3.0000e-04\n",
            "Epoch 11/50\n",
            "129/129 [==============================] - 14s 110ms/step - loss: 0.1315 - accuracy: 0.9544 - val_loss: 0.1032 - val_accuracy: 0.9674 - lr: 3.0000e-04\n",
            "Epoch 12/50\n",
            "129/129 [==============================] - 15s 112ms/step - loss: 0.1294 - accuracy: 0.9537 - val_loss: 0.1083 - val_accuracy: 0.9646 - lr: 3.0000e-04\n",
            "Epoch 13/50\n",
            "129/129 [==============================] - ETA: 0s - loss: 0.1271 - accuracy: 0.9568\n",
            "Epoch 00013: ReduceLROnPlateau reducing learning rate to 9.000000427477062e-05.\n",
            "129/129 [==============================] - 15s 112ms/step - loss: 0.1271 - accuracy: 0.9568 - val_loss: 0.0993 - val_accuracy: 0.9607 - lr: 3.0000e-04\n",
            "Epoch 14/50\n",
            "129/129 [==============================] - 14s 110ms/step - loss: 0.1166 - accuracy: 0.9617 - val_loss: 0.0946 - val_accuracy: 0.9665 - lr: 9.0000e-05\n",
            "Epoch 15/50\n",
            "129/129 [==============================] - ETA: 0s - loss: 0.1178 - accuracy: 0.9568\n",
            "Epoch 00015: ReduceLROnPlateau reducing learning rate to 2.700000040931627e-05.\n",
            "129/129 [==============================] - 15s 113ms/step - loss: 0.1178 - accuracy: 0.9568 - val_loss: 0.1165 - val_accuracy: 0.9607 - lr: 9.0000e-05\n",
            "Epoch 16/50\n",
            "129/129 [==============================] - 15s 113ms/step - loss: 0.1041 - accuracy: 0.9626 - val_loss: 0.0925 - val_accuracy: 0.9636 - lr: 2.7000e-05\n",
            "Epoch 17/50\n",
            "129/129 [==============================] - 14s 110ms/step - loss: 0.1080 - accuracy: 0.9624 - val_loss: 0.0901 - val_accuracy: 0.9684 - lr: 2.7000e-05\n",
            "Epoch 18/50\n",
            "129/129 [==============================] - 15s 112ms/step - loss: 0.1098 - accuracy: 0.9621 - val_loss: 0.0970 - val_accuracy: 0.9626 - lr: 2.7000e-05\n",
            "Epoch 19/50\n",
            "129/129 [==============================] - 14s 110ms/step - loss: 0.0951 - accuracy: 0.9658 - val_loss: 0.0854 - val_accuracy: 0.9693 - lr: 2.7000e-05\n",
            "Epoch 20/50\n",
            "129/129 [==============================] - 15s 115ms/step - loss: 0.0974 - accuracy: 0.9672 - val_loss: 0.0923 - val_accuracy: 0.9722 - lr: 2.7000e-05\n",
            "Epoch 21/50\n",
            "129/129 [==============================] - 15s 116ms/step - loss: 0.1068 - accuracy: 0.9617 - val_loss: 0.0886 - val_accuracy: 0.9684 - lr: 2.7000e-05\n",
            "Epoch 22/50\n",
            "129/129 [==============================] - ETA: 0s - loss: 0.0993 - accuracy: 0.9638\n",
            "Epoch 00022: ReduceLROnPlateau reducing learning rate to 8.100000013655517e-06.\n",
            "129/129 [==============================] - 14s 110ms/step - loss: 0.0993 - accuracy: 0.9638 - val_loss: 0.0792 - val_accuracy: 0.9693 - lr: 2.7000e-05\n",
            "Epoch 23/50\n",
            "129/129 [==============================] - 14s 110ms/step - loss: 0.0994 - accuracy: 0.9641 - val_loss: 0.0920 - val_accuracy: 0.9703 - lr: 8.1000e-06\n",
            "Epoch 24/50\n",
            "129/129 [==============================] - ETA: 0s - loss: 0.1054 - accuracy: 0.9651\n",
            "Epoch 00024: ReduceLROnPlateau reducing learning rate to 2.429999949526973e-06.\n",
            "129/129 [==============================] - 14s 110ms/step - loss: 0.1054 - accuracy: 0.9651 - val_loss: 0.0848 - val_accuracy: 0.9703 - lr: 8.1000e-06\n",
            "Epoch 25/50\n",
            "129/129 [==============================] - 14s 110ms/step - loss: 0.0985 - accuracy: 0.9677 - val_loss: 0.0857 - val_accuracy: 0.9770 - lr: 2.4300e-06\n",
            "Epoch 26/50\n",
            "129/129 [==============================] - 14s 110ms/step - loss: 0.1013 - accuracy: 0.9658 - val_loss: 0.0852 - val_accuracy: 0.9741 - lr: 2.4300e-06\n",
            "Epoch 27/50\n",
            "129/129 [==============================] - ETA: 0s - loss: 0.1024 - accuracy: 0.9619\n",
            "Epoch 00027: ReduceLROnPlateau reducing learning rate to 1e-06.\n",
            "129/129 [==============================] - 14s 110ms/step - loss: 0.1024 - accuracy: 0.9619 - val_loss: 0.0833 - val_accuracy: 0.9665 - lr: 2.4300e-06\n",
            "Epoch 28/50\n",
            "129/129 [==============================] - 14s 112ms/step - loss: 0.0970 - accuracy: 0.9643 - val_loss: 0.0917 - val_accuracy: 0.9665 - lr: 1.0000e-06\n",
            "Epoch 29/50\n",
            "129/129 [==============================] - 14s 111ms/step - loss: 0.0930 - accuracy: 0.9680 - val_loss: 0.0847 - val_accuracy: 0.9665 - lr: 1.0000e-06\n",
            "Epoch 30/50\n",
            "129/129 [==============================] - 14s 110ms/step - loss: 0.0996 - accuracy: 0.9641 - val_loss: 0.0911 - val_accuracy: 0.9732 - lr: 1.0000e-06\n",
            "Epoch 31/50\n",
            "129/129 [==============================] - 14s 110ms/step - loss: 0.0955 - accuracy: 0.9668 - val_loss: 0.0789 - val_accuracy: 0.9732 - lr: 1.0000e-06\n",
            "Epoch 32/50\n",
            "129/129 [==============================] - 14s 110ms/step - loss: 0.1020 - accuracy: 0.9629 - val_loss: 0.0878 - val_accuracy: 0.9646 - lr: 1.0000e-06\n",
            "Epoch 33/50\n",
            "129/129 [==============================] - 14s 110ms/step - loss: 0.0974 - accuracy: 0.9626 - val_loss: 0.0873 - val_accuracy: 0.9722 - lr: 1.0000e-06\n",
            "Epoch 34/50\n",
            "129/129 [==============================] - 14s 110ms/step - loss: 0.0982 - accuracy: 0.9668 - val_loss: 0.0942 - val_accuracy: 0.9655 - lr: 1.0000e-06\n",
            "Epoch 35/50\n",
            "129/129 [==============================] - 14s 110ms/step - loss: 0.1032 - accuracy: 0.9631 - val_loss: 0.0933 - val_accuracy: 0.9665 - lr: 1.0000e-06\n",
            "Epoch 36/50\n",
            "129/129 [==============================] - 14s 110ms/step - loss: 0.1032 - accuracy: 0.9641 - val_loss: 0.0822 - val_accuracy: 0.9741 - lr: 1.0000e-06\n",
            "Epoch 37/50\n",
            "129/129 [==============================] - 15s 114ms/step - loss: 0.0972 - accuracy: 0.9677 - val_loss: 0.0824 - val_accuracy: 0.9722 - lr: 1.0000e-06\n",
            "Epoch 38/50\n",
            "129/129 [==============================] - 14s 110ms/step - loss: 0.0964 - accuracy: 0.9670 - val_loss: 0.0834 - val_accuracy: 0.9713 - lr: 1.0000e-06\n",
            "Epoch 39/50\n",
            "129/129 [==============================] - 14s 110ms/step - loss: 0.1039 - accuracy: 0.9636 - val_loss: 0.0848 - val_accuracy: 0.9770 - lr: 1.0000e-06\n",
            "Epoch 40/50\n",
            "129/129 [==============================] - 14s 110ms/step - loss: 0.0949 - accuracy: 0.9704 - val_loss: 0.0990 - val_accuracy: 0.9674 - lr: 1.0000e-06\n",
            "Epoch 41/50\n",
            "129/129 [==============================] - 14s 110ms/step - loss: 0.0973 - accuracy: 0.9636 - val_loss: 0.0945 - val_accuracy: 0.9693 - lr: 1.0000e-06\n",
            "Epoch 42/50\n",
            "129/129 [==============================] - 14s 111ms/step - loss: 0.0964 - accuracy: 0.9629 - val_loss: 0.0886 - val_accuracy: 0.9722 - lr: 1.0000e-06\n",
            "Epoch 43/50\n",
            "129/129 [==============================] - 14s 110ms/step - loss: 0.0976 - accuracy: 0.9646 - val_loss: 0.0826 - val_accuracy: 0.9684 - lr: 1.0000e-06\n",
            "Epoch 44/50\n",
            "129/129 [==============================] - 14s 110ms/step - loss: 0.0967 - accuracy: 0.9668 - val_loss: 0.0711 - val_accuracy: 0.9732 - lr: 1.0000e-06\n",
            "Epoch 45/50\n",
            "129/129 [==============================] - 14s 110ms/step - loss: 0.0998 - accuracy: 0.9638 - val_loss: 0.0682 - val_accuracy: 0.9751 - lr: 1.0000e-06\n",
            "Epoch 46/50\n",
            "129/129 [==============================] - 14s 109ms/step - loss: 0.0992 - accuracy: 0.9660 - val_loss: 0.0818 - val_accuracy: 0.9741 - lr: 1.0000e-06\n",
            "Epoch 47/50\n",
            "129/129 [==============================] - 14s 109ms/step - loss: 0.0996 - accuracy: 0.9643 - val_loss: 0.0856 - val_accuracy: 0.9703 - lr: 1.0000e-06\n",
            "Epoch 48/50\n",
            "129/129 [==============================] - 14s 109ms/step - loss: 0.0987 - accuracy: 0.9646 - val_loss: 0.0810 - val_accuracy: 0.9732 - lr: 1.0000e-06\n",
            "Epoch 49/50\n",
            "129/129 [==============================] - 14s 110ms/step - loss: 0.0957 - accuracy: 0.9665 - val_loss: 0.0831 - val_accuracy: 0.9732 - lr: 1.0000e-06\n",
            "Epoch 50/50\n",
            "129/129 [==============================] - 14s 109ms/step - loss: 0.0981 - accuracy: 0.9651 - val_loss: 0.0927 - val_accuracy: 0.9655 - lr: 1.0000e-06\n"
          ]
        }
      ]
    },
    {
      "cell_type": "markdown",
      "metadata": {
        "id": "M1OyrUJ6oQKE"
      },
      "source": [
        "### **SOAL 2 :**\n",
        "\n",
        "---\n",
        "Untuk mendapatkan penilaian pada soal ke 2 ini anda **wajib** mengerjakan soal nomer 1 terlebih dahulu. Tunjukkan kepada asisten bahwa anda telah menyelesaikan seluruh soal wajib diatas dan jelaskan dengan sebaik mungkin kepada asisten.\n",
        "\n",
        "\n",
        "**Poin penilaian**\n",
        "* Dapat menunjukkan dan menjelaskan hasil evaluasi masing-masing model yang digunakan.\n",
        "* Dapat memvisualisasikan hasil evaluasi model dan menjelaskannya kepada asisten. \n",
        "* Menggunakan maptplotlib atau seaborn untuk visualisasi loss dan accuracy\n",
        "* Menampilkan hasil evaluasi berupa nilai presisi, akurasi, recall, f1 score dan confusion matrix.\n",
        "* Menggunakan tensorboard untuk visualisasi hasil evaluasi model menggunakan hyperparameter tuning.\n",
        "* Menggunakan Hparam untuk tuning model.\n",
        "* Hasil accuracy model terbaik >= 80% \n",
        "* Hasil loss model terbaik < 5%"
      ]
    },
    {
      "cell_type": "markdown",
      "metadata": {
        "id": "VXojMfMOCB07"
      },
      "source": [
        "**Model 1**"
      ]
    },
    {
      "cell_type": "code",
      "metadata": {
        "id": "iQl-nGr4K90s",
        "colab": {
          "base_uri": "https://localhost:8080/"
        },
        "outputId": "523fd410-116b-413b-f8c1-ea0a35df9283"
      },
      "source": [
        "# Tulis Program Anda Disini!\n",
        "print (\"Loss - \", model.evaluate(x_test, y_test)[0])\n",
        "print (\"Accuracy - \", model.evaluate(x_test, y_test)[1]*100, \"%\")"
      ],
      "execution_count": null,
      "outputs": [
        {
          "output_type": "stream",
          "name": "stdout",
          "text": [
            "2/2 [==============================] - 1s 344ms/step - loss: 0.6879 - accuracy: 0.7451\n",
            "Loss -  0.68790602684021\n",
            "2/2 [==============================] - 0s 24ms/step - loss: 0.6879 - accuracy: 0.7451\n",
            "Accuracy -  74.50980544090271 %\n"
          ]
        }
      ]
    },
    {
      "cell_type": "code",
      "metadata": {
        "colab": {
          "base_uri": "https://localhost:8080/",
          "height": 503
        },
        "id": "vOSABaYhyTY5",
        "outputId": "c23c1cd1-2205-447b-b7d3-87ed2c66e870"
      },
      "source": [
        "epochs = [i for i in range(50)]\n",
        "fig , ax = plt.subplots(1,2)\n",
        "train_acc = history.history['accuracy']\n",
        "train_loss = history.history['loss']\n",
        "val_acc = history.history['val_accuracy']\n",
        "val_loss = history.history['val_loss']\n",
        "fig.set_size_inches(20,10)\n",
        "\n",
        "ax[0].plot(epochs , train_acc , 'go-' , label = 'Training Accuracy')\n",
        "ax[0].plot(epochs , val_acc , 'ro-' , label = 'Validation Accuracy')\n",
        "ax[0].set_title('Training & Validation Accuracy')\n",
        "ax[0].legend()\n",
        "ax[0].set_xlabel(\"Epochs\")\n",
        "ax[0].set_ylabel(\"Accuracy\")\n",
        "\n",
        "ax[1].plot(epochs , train_loss , 'g-o' , label = 'Training Loss')\n",
        "ax[1].plot(epochs , val_loss , 'r-o' , label = 'Validation Loss')\n",
        "ax[1].set_title('Testing Accuracy & Loss')\n",
        "ax[1].legend()\n",
        "ax[1].set_xlabel(\"Epochs\")\n",
        "ax[1].set_ylabel(\"Training & Validation Loss\")\n",
        "plt.show()"
      ],
      "execution_count": null,
      "outputs": [
        {
          "output_type": "display_data",
          "data": {
            "image/png": "[encoded data removed]",
            "text/plain": [
              "<Figure size 1440x720 with 2 Axes>"
            ]
          },
          "metadata": {}
        }
      ]
    },
    {
      "cell_type": "code",
      "metadata": {
        "colab": {
          "base_uri": "https://localhost:8080/"
        },
        "id": "qgmE1JBUGOEV",
        "outputId": "30a0e757-c224-4d7e-a14c-65cf0de5cf3c"
      },
      "source": [
        "predictions = (model.predict(x_test) > 0.5).astype(\"int32\")\n",
        "predictions = predictions.reshape(1,-1)[0]\n",
        "predictions[:15]"
      ],
      "execution_count": null,
      "outputs": [
        {
          "output_type": "execute_result",
          "data": {
            "text/plain": [
              "array([0, 0, 0, 0, 0, 0, 0, 0, 0, 0, 0, 0, 0, 0, 0], dtype=int32)"
            ]
          },
          "metadata": {},
          "execution_count": 33
        }
      ]
    },
    {
      "cell_type": "code",
      "metadata": {
        "colab": {
          "base_uri": "https://localhost:8080/"
        },
        "id": "V8LBrymBGc_l",
        "outputId": "bbbcd6af-3f88-4b53-b186-f93b3c70b67d"
      },
      "source": [
        "print(classification_report(y_test, predictions, target_names = ['Pneumonia (Class 0)','Normal (Class 1)']))"
      ],
      "execution_count": null,
      "outputs": [
        {
          "output_type": "stream",
          "name": "stdout",
          "text": [
            "                     precision    recall  f1-score   support\n",
            "\n",
            "Pneumonia (Class 0)       0.75      1.00      0.85        38\n",
            "   Normal (Class 1)       0.00      0.00      0.00        13\n",
            "\n",
            "           accuracy                           0.75        51\n",
            "          macro avg       0.37      0.50      0.43        51\n",
            "       weighted avg       0.56      0.75      0.64        51\n",
            "\n"
          ]
        },
        {
          "output_type": "stream",
          "name": "stderr",
          "text": [
            "/usr/local/lib/python3.7/dist-packages/sklearn/metrics/_classification.py:1308: UndefinedMetricWarning: Precision and F-score are ill-defined and being set to 0.0 in labels with no predicted samples. Use `zero_division` parameter to control this behavior.\n",
            "  _warn_prf(average, modifier, msg_start, len(result))\n",
            "/usr/local/lib/python3.7/dist-packages/sklearn/metrics/_classification.py:1308: UndefinedMetricWarning: Precision and F-score are ill-defined and being set to 0.0 in labels with no predicted samples. Use `zero_division` parameter to control this behavior.\n",
            "  _warn_prf(average, modifier, msg_start, len(result))\n",
            "/usr/local/lib/python3.7/dist-packages/sklearn/metrics/_classification.py:1308: UndefinedMetricWarning: Precision and F-score are ill-defined and being set to 0.0 in labels with no predicted samples. Use `zero_division` parameter to control this behavior.\n",
            "  _warn_prf(average, modifier, msg_start, len(result))\n"
          ]
        }
      ]
    },
    {
      "cell_type": "code",
      "metadata": {
        "colab": {
          "base_uri": "https://localhost:8080/"
        },
        "id": "h2eXx06wGqGP",
        "outputId": "b2467fff-4be7-42a5-ee6f-5f66027d469c"
      },
      "source": [
        "cm = confusion_matrix(y_test,predictions)\n",
        "cm"
      ],
      "execution_count": null,
      "outputs": [
        {
          "output_type": "execute_result",
          "data": {
            "text/plain": [
              "array([[38,  0],\n",
              "       [13,  0]])"
            ]
          },
          "metadata": {},
          "execution_count": 35
        }
      ]
    },
    {
      "cell_type": "code",
      "metadata": {
        "id": "8_UDkFGVGuiY"
      },
      "source": [
        "cm = pd.DataFrame(cm , index = ['0','1'] , columns = ['0','1'])"
      ],
      "execution_count": null,
      "outputs": []
    },
    {
      "cell_type": "code",
      "metadata": {
        "colab": {
          "base_uri": "https://localhost:8080/",
          "height": 609
        },
        "id": "fFUtg1NFGz1v",
        "outputId": "3de136ee-28dd-4bd8-c726-36b23bcefa64"
      },
      "source": [
        "plt.figure(figsize = (10,10))\n",
        "sns.heatmap(cm,cmap= \"Blues\", linecolor = 'black' , linewidth = 1 , annot = True, fmt='',xticklabels = labels,yticklabels = labels)"
      ],
      "execution_count": null,
      "outputs": [
        {
          "output_type": "execute_result",
          "data": {
            "text/plain": [
              "<matplotlib.axes._subplots.AxesSubplot at 0x7fa6894a9bd0>"
            ]
          },
          "metadata": {},
          "execution_count": 37
        },
        {
          "output_type": "display_data",
          "data": {
            "image/png": "[encoded data removed]",
            "text/plain": [
              "<Figure size 720x720 with 2 Axes>"
            ]
          },
          "metadata": {}
        }
      ]
    },
    {
      "cell_type": "code",
      "metadata": {
        "id": "VcXU6kvJG5I4"
      },
      "source": [
        "correct = np.nonzero(predictions == y_test)[0]\n",
        "incorrect = np.nonzero(predictions != y_test)[0]"
      ],
      "execution_count": null,
      "outputs": []
    },
    {
      "cell_type": "code",
      "metadata": {
        "colab": {
          "base_uri": "https://localhost:8080/",
          "height": 297
        },
        "id": "ielI28Z2HAyT",
        "outputId": "be8b931d-edbb-4bf6-bab7-f0acb66b6f80"
      },
      "source": [
        "i = 0\n",
        "for c in correct[:6]:\n",
        "    plt.subplot(3,2,i+1)\n",
        "    plt.xticks([])\n",
        "    plt.yticks([])\n",
        "    plt.imshow(x_test[c].reshape(150,150), cmap=\"gray\", interpolation='none')\n",
        "    plt.title(\"Predicted Class {},Actual Class {}\".format(predictions[c], y_test[c]))\n",
        "    plt.tight_layout()\n",
        "    i += 1"
      ],
      "execution_count": null,
      "outputs": [
        {
          "output_type": "display_data",
          "data": {
            "image/png": "[encoded data removed]",
            "text/plain": [
              "<Figure size 432x288 with 6 Axes>"
            ]
          },
          "metadata": {}
        }
      ]
    },
    {
      "cell_type": "markdown",
      "metadata": {
        "id": "3ioZcpRWHpjR"
      },
      "source": [
        "**Model 2**\n"
      ]
    },
    {
      "cell_type": "code",
      "metadata": {
        "colab": {
          "base_uri": "https://localhost:8080/"
        },
        "id": "Qo2zDK3SHtIq",
        "outputId": "3f32fadd-e8cc-4284-8b44-b09608615e91"
      },
      "source": [
        "print (\"Loss - \", model2.evaluate(x_test, y_test)[0])\n",
        "print (\"Accuracy - \", model2.evaluate(x_test, y_test)[1]*100, \"%\")"
      ],
      "execution_count": null,
      "outputs": [
        {
          "output_type": "stream",
          "name": "stdout",
          "text": [
            "2/2 [==============================] - 0s 27ms/step - loss: 0.0815 - accuracy: 0.9608\n",
            "Loss -  0.0814734697341919\n",
            "2/2 [==============================] - 0s 26ms/step - loss: 0.0815 - accuracy: 0.9608\n",
            "Accuracy -  96.07843160629272 %\n"
          ]
        }
      ]
    },
    {
      "cell_type": "code",
      "metadata": {
        "colab": {
          "base_uri": "https://localhost:8080/",
          "height": 487
        },
        "id": "Z0uAMVsAHtFl",
        "outputId": "169bb935-de99-4307-c922-57fa65d4d444"
      },
      "source": [
        "epochs = [i for i in range(50)]\n",
        "fig , ax = plt.subplots(1,2)\n",
        "train_acc = History.History['accuracy']\n",
        "train_loss = History.History['loss']\n",
        "val_acc = History.History['val_accuracy']\n",
        "val_loss = History.History['val_loss']\n",
        "fig.set_size_inches(20,10)\n",
        "\n",
        "ax[0].plot(epochs , train_acc , 'go-' , label = 'Training Accuracy')\n",
        "ax[0].plot(epochs , val_acc , 'ro-' , label = 'Validation Accuracy')\n",
        "ax[0].set_title('Training & Validation Accuracy')\n",
        "ax[0].legend()\n",
        "ax[0].set_xlabel(\"Epochs\")\n",
        "ax[0].set_ylabel(\"Accuracy\")\n",
        "\n",
        "ax[1].plot(epochs , train_loss , 'g-o' , label = 'Training Loss')\n",
        "ax[1].plot(epochs , val_loss , 'r-o' , label = 'Validation Loss')\n",
        "ax[1].set_title('Testing Accuracy & Loss')\n",
        "ax[1].legend()\n",
        "ax[1].set_xlabel(\"Epochs\")\n",
        "ax[1].set_ylabel(\"Training & Validation Loss\")\n",
        "plt.show()"
      ],
      "execution_count": null,
      "outputs": [
        {
          "output_type": "error",
          "ename": "AttributeError",
          "evalue": "ignored",
          "traceback": [
            "\u001b[0;31m---------------------------------------------------------------------------\u001b[0m",
            "\u001b[0;31mAttributeError\u001b[0m                            Traceback (most recent call last)",
            "\u001b[0;32m<ipython-input-43-432b826dcbd1>\u001b[0m in \u001b[0;36m<module>\u001b[0;34m()\u001b[0m\n\u001b[1;32m      1\u001b[0m \u001b[0mepochs\u001b[0m \u001b[0;34m=\u001b[0m \u001b[0;34m[\u001b[0m\u001b[0mi\u001b[0m \u001b[0;32mfor\u001b[0m \u001b[0mi\u001b[0m \u001b[0;32min\u001b[0m \u001b[0mrange\u001b[0m\u001b[0;34m(\u001b[0m\u001b[0;36m50\u001b[0m\u001b[0;34m)\u001b[0m\u001b[0;34m]\u001b[0m\u001b[0;34m\u001b[0m\u001b[0;34m\u001b[0m\u001b[0m\n\u001b[1;32m      2\u001b[0m \u001b[0mfig\u001b[0m \u001b[0;34m,\u001b[0m \u001b[0max\u001b[0m \u001b[0;34m=\u001b[0m \u001b[0mplt\u001b[0m\u001b[0;34m.\u001b[0m\u001b[0msubplots\u001b[0m\u001b[0;34m(\u001b[0m\u001b[0;36m1\u001b[0m\u001b[0;34m,\u001b[0m\u001b[0;36m2\u001b[0m\u001b[0;34m)\u001b[0m\u001b[0;34m\u001b[0m\u001b[0;34m\u001b[0m\u001b[0m\n\u001b[0;32m----> 3\u001b[0;31m \u001b[0mtrain_acc\u001b[0m \u001b[0;34m=\u001b[0m \u001b[0mHistory\u001b[0m\u001b[0;34m.\u001b[0m\u001b[0mHistory\u001b[0m\u001b[0;34m[\u001b[0m\u001b[0;34m'accuracy'\u001b[0m\u001b[0;34m]\u001b[0m\u001b[0;34m\u001b[0m\u001b[0;34m\u001b[0m\u001b[0m\n\u001b[0m\u001b[1;32m      4\u001b[0m \u001b[0mtrain_loss\u001b[0m \u001b[0;34m=\u001b[0m \u001b[0mHistory\u001b[0m\u001b[0;34m.\u001b[0m\u001b[0mHistory\u001b[0m\u001b[0;34m[\u001b[0m\u001b[0;34m'loss'\u001b[0m\u001b[0;34m]\u001b[0m\u001b[0;34m\u001b[0m\u001b[0;34m\u001b[0m\u001b[0m\n\u001b[1;32m      5\u001b[0m \u001b[0mval_acc\u001b[0m \u001b[0;34m=\u001b[0m \u001b[0mHistory\u001b[0m\u001b[0;34m.\u001b[0m\u001b[0mHistory\u001b[0m\u001b[0;34m[\u001b[0m\u001b[0;34m'val_accuracy'\u001b[0m\u001b[0;34m]\u001b[0m\u001b[0;34m\u001b[0m\u001b[0;34m\u001b[0m\u001b[0m\n",
            "\u001b[0;31mAttributeError\u001b[0m: 'History' object has no attribute 'History'"
          ]
        },
        {
          "output_type": "display_data",
          "data": {
            "image/png": "[encoded data removed]",
            "text/plain": [
              "<Figure size 432x288 with 2 Axes>"
            ]
          },
          "metadata": {}
        }
      ]
    },
    {
      "cell_type": "code",
      "metadata": {
        "colab": {
          "base_uri": "https://localhost:8080/"
        },
        "id": "CYjAysj_IzwT",
        "outputId": "bb326d03-7fd2-46d2-c011-cba0c172b561"
      },
      "source": [
        "predictions = (model2.predict(x_test) > 0.5).astype(\"int32\")\n",
        "predictions = predictions.reshape(1,-1)[0]\n",
        "predictions[:15]"
      ],
      "execution_count": null,
      "outputs": [
        {
          "output_type": "execute_result",
          "data": {
            "text/plain": [
              "array([0, 0, 0, 1, 0, 0, 0, 0, 0, 0, 0, 0, 0, 0, 0], dtype=int32)"
            ]
          },
          "metadata": {},
          "execution_count": 44
        }
      ]
    },
    {
      "cell_type": "code",
      "metadata": {
        "colab": {
          "base_uri": "https://localhost:8080/"
        },
        "id": "sMpb9f_bInlo",
        "outputId": "e0b14fb5-2b0f-419a-8236-3366f96164dc"
      },
      "source": [
        "print(classification_report(y_test, predictions, target_names = ['Pneumonia (Class 0)','Normal (Class 1)']))"
      ],
      "execution_count": null,
      "outputs": [
        {
          "output_type": "stream",
          "name": "stdout",
          "text": [
            "                     precision    recall  f1-score   support\n",
            "\n",
            "Pneumonia (Class 0)       1.00      0.95      0.97        38\n",
            "   Normal (Class 1)       0.87      1.00      0.93        13\n",
            "\n",
            "           accuracy                           0.96        51\n",
            "          macro avg       0.93      0.97      0.95        51\n",
            "       weighted avg       0.97      0.96      0.96        51\n",
            "\n"
          ]
        }
      ]
    },
    {
      "cell_type": "code",
      "metadata": {
        "colab": {
          "base_uri": "https://localhost:8080/"
        },
        "id": "BWS-bHuvHtCa",
        "outputId": "317a6f52-68ef-44cf-9fc0-deab9e5477d5"
      },
      "source": [
        "cm = confusion_matrix(y_test,predictions)\n",
        "cm"
      ],
      "execution_count": null,
      "outputs": [
        {
          "output_type": "execute_result",
          "data": {
            "text/plain": [
              "array([[36,  2],\n",
              "       [ 0, 13]])"
            ]
          },
          "metadata": {},
          "execution_count": 46
        }
      ]
    },
    {
      "cell_type": "code",
      "metadata": {
        "id": "lJ2bK738Hs-w"
      },
      "source": [
        "cm = pd.DataFrame(cm , index = ['0','1'] , columns = ['0','1'])"
      ],
      "execution_count": null,
      "outputs": []
    },
    {
      "cell_type": "code",
      "metadata": {
        "colab": {
          "base_uri": "https://localhost:8080/",
          "height": 609
        },
        "id": "vi1y2hdlHs7o",
        "outputId": "90266f93-6676-49e5-d936-91e7411f8b0d"
      },
      "source": [
        "plt.figure(figsize = (10,10))\n",
        "sns.heatmap(cm,cmap= \"Blues\", linecolor = 'black' , linewidth = 1 , annot = True, fmt='',xticklabels = labels,yticklabels = labels)"
      ],
      "execution_count": null,
      "outputs": [
        {
          "output_type": "execute_result",
          "data": {
            "text/plain": [
              "<matplotlib.axes._subplots.AxesSubplot at 0x7fa590ca7890>"
            ]
          },
          "metadata": {},
          "execution_count": 48
        },
        {
          "output_type": "display_data",
          "data": {
            "image/png": "[encoded data removed]",
            "text/plain": [
              "<Figure size 720x720 with 2 Axes>"
            ]
          },
          "metadata": {}
        }
      ]
    },
    {
      "cell_type": "code",
      "metadata": {
        "id": "TDNU_L_PHs3y"
      },
      "source": [
        "correct = np.nonzero(predictions == y_test)[0]\n",
        "incorrect = np.nonzero(predictions != y_test)[0]"
      ],
      "execution_count": null,
      "outputs": []
    },
    {
      "cell_type": "code",
      "metadata": {
        "colab": {
          "base_uri": "https://localhost:8080/",
          "height": 297
        },
        "id": "lgNH1EO6Hs1c",
        "outputId": "6b7399cc-251e-4dd4-9069-5b7ec889d1b5"
      },
      "source": [
        "i = 0\n",
        "for c in correct[:6]:\n",
        "    plt.subplot(3,2,i+1)\n",
        "    plt.xticks([])\n",
        "    plt.yticks([])\n",
        "    plt.imshow(x_test[c].reshape(150,150), cmap=\"gray\", interpolation='none')\n",
        "    plt.title(\"Predicted Class {},Actual Class {}\".format(predictions[c], y_test[c]))\n",
        "    plt.tight_layout()\n",
        "    i += 1"
      ],
      "execution_count": null,
      "outputs": [
        {
          "output_type": "display_data",
          "data": {
            "image/png": "[encoded data removed]",
            "text/plain": [
              "<Figure size 432x288 with 6 Axes>"
            ]
          },
          "metadata": {}
        }
      ]
    },
    {
      "cell_type": "code",
      "metadata": {
        "id": "iSdXj2eQHswF"
      },
      "source": [
        ""
      ],
      "execution_count": null,
      "outputs": []
    },
    {
      "cell_type": "markdown",
      "metadata": {
        "id": "-zzfYOy8U4TX"
      },
      "source": [
        "## Kegiatan 2 **(berkelompok)**\n",
        "30 poin"
      ]
    },
    {
      "cell_type": "markdown",
      "metadata": {
        "id": "fBIbZKBZKKHN"
      },
      "source": [
        "**Ketentuan Wajib**\n",
        "* Tulis dokumentasi tugas kelompok anda dalam file README.md\n",
        "* Cek daftar dataset seluruh praktikan [disini](https://docs.google.com/spreadsheets/d/1qyu5AVDhPhegpRTbNaDoq5qXX4_CX09Q7tYyD-fkF_c/edit?usp=sharing)\n",
        "* Seluruh data dan progress pengerjaan tugas kelompok harus berada dalam github repository sebelum praktikum dimulai\n",
        "* Tidak diperbolehkan berganti anggota kelompok selama satu semester ini\n",
        "* Tidak diperbolehkan berganti repository selama mengerjakan tugas kelompok ini\n",
        "* **Tidak diperbolehkan berganti dataset atau jurnal rujukan**\n",
        "* Pastikan anda menggunakan akun github pribadi untuk melakukan commit dan push\n",
        "\n",
        "**Penilaian**\n",
        "* Keaktifan dalam tim\n",
        "* Kontribusi dalam proyek dan tim\n",
        "* Penerapan prinsip kerja Agile (sprint backlog dan report terdokumentasikan dengan baik)\n",
        "* Progress pengerjaan tugas kelompok\n",
        "* Problem solving masing - masing anggota terhadap kendala yang dialami\n",
        "* Pemahaman masing - masing anggota tim terhadap tugas yang dikerjakan\n",
        "* Pendokumentasian proyek \"clear and clean documentation\"\n",
        "\n",
        "**Materi pendukung**\n",
        "* [Project documentation](https://realpython.com/documenting-python-code)\n",
        "* [Github readme](https://docs.github.com/en/github/writing-on-github/getting-started-with-writing-and-formatting-on-github/basic-writing-and-formatting-syntax)\n",
        "* [Sprint backlog](https://www.lucidchart.com/blog/how-to-develop-a-product-backlog-in-agile)"
      ]
    },
    {
      "cell_type": "markdown",
      "metadata": {
        "id": "u8-XbSmMp0NT"
      },
      "source": [
        "**Tugas**\n",
        "\n",
        "Melanjutkan tugas kelompok di modul 1 sampai 3 sekarang kerjakan beberapa poin berikut untuk didemokan kepada asisten masing-masing.\n",
        "\n",
        "*   Melakukan proses preprocessing dataset dengan ketentuan:\n",
        " * augmentasi data menggunakan ImageDataGenerator\n",
        " * balancing dataset menggunakan teknik oversampling / downsampling\n",
        " * splitting dataset menjadi (75% train, 14% validation, 1% test)\n",
        "*   Melakukan training beberapa skema model menggunakan model CNN sederhana buatan sendiri **(minimal 2 model)** *tidak diperbolehkan menggunakan transfer learning* \n",
        " * Menerapkan proses Convolution\n",
        " * Menerapkan proses Pooling\n",
        " * Menerapkan Dropout\n",
        " * Menerpakan BatchNormalization\n",
        " * Menerapkan learning rate scheduller\n",
        " * Menggunakan hyperparameter tuning\n",
        " * Minimal 100 epoch per model\n",
        "* Menyimpan model yang telah di training kedalam file `.json` dan weight kedalam file `.h5` [Lihat disini](https://www.tensorflow.org/guide/keras/save_and_serialize)\n",
        "*  Mencatat hasil perkembangan tugas kelompok dalam file `sprint_project.xlsx` tandai masing-masing task dengan status **Done** *untuk task yang telah selesai dikerjakan*, **On Going** *untuk task yang dalam proses pengerjaan*, **Waiting** *untuk task yang belum atau akan dikerjakan*\n",
        "* Pastikan anda menulis tanggal mulai dan tanggal selesai masing-masing task dengan benar\n",
        "* Pastikan anda menulis penanggung jawab masing-masing task (Penanggung jawab bertugas menyelesaikan dan menuntaskan masing-masing task yang diberikan)\n",
        "* `commit` dan `push` seluruh perkerjaan yang anda lakukan kedalam branch pribadi dalam repository tugas kelompok yang telah anda buat sebelumnya.\n",
        "* Presentasikan kepada asisten tentang apa yang anda lakukakan selama mengerjakan tugas kelompok ini. Ceritakan tentang tugas masing-masing anggota,  kendala dalam mengerjakan tugas sampai solusi yang anda lakukan saat mengerjakan tugas kelompok ini.\n",
        "\n"
      ]
    }
  ]
}